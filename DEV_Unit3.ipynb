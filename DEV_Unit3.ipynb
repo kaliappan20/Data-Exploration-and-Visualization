{
  "nbformat": 4,
  "nbformat_minor": 0,
  "metadata": {
    "colab": {
      "provenance": [],
      "authorship_tag": "ABX9TyO+qvhgLvzFeZUxnrRxXKs8",
      "include_colab_link": true
    },
    "kernelspec": {
      "name": "python3",
      "display_name": "Python 3"
    },
    "language_info": {
      "name": "python"
    }
  },
  "cells": [
    {
      "cell_type": "markdown",
      "metadata": {
        "id": "view-in-github",
        "colab_type": "text"
      },
      "source": [
        "<a href=\"https://colab.research.google.com/github/kaliappan20/Data-Exploration-and-Visualization/blob/main/DEV_Unit3.ipynb\" target=\"_parent\"><img src=\"https://colab.research.google.com/assets/colab-badge.svg\" alt=\"Open In Colab\"/></a>"
      ]
    },
    {
      "cell_type": "code",
      "execution_count": null,
      "metadata": {
        "id": "HFiX7aZRMFyh"
      },
      "outputs": [],
      "source": [
        "# Reference\n",
        "#  https://www.statology.org/binomial-distribution-python/\n",
        "\n",
        "# https://www.kaggle.com/code/nowke9/statistics-2-distributions\n",
        "\n",
        "# univariate analysis\n",
        "#  The term univariate analysis refers to the analysis of one variable. \n",
        "# It takes data, summarizes that data and finds patterns in the data\n",
        "\n",
        "# There are three common ways to perform univariate analysis on one variable:\n",
        "\n",
        "# 1. Summary statistics – Measures the center and spread of values.\n",
        "\n",
        "# 2. Frequency table – Describes how often different values occur.\n",
        "\n",
        "# 3. Charts – Used to visualize the distribution of values."
      ]
    },
    {
      "cell_type": "code",
      "source": [
        "# Descriptive statistics\n",
        "# Descriptive statistics refers to a set of techniques for summarizing and displaying data"
      ],
      "metadata": {
        "id": "Y-Dlaq9LP7o8"
      },
      "execution_count": null,
      "outputs": []
    },
    {
      "cell_type": "code",
      "source": [
        "# THE DISTRIBUTION OF A VARIABLE\n",
        "# Every variable has a distribution, which is the way the scores are distributed across the levels of that variable\n",
        "# A distribution of data is a representation (or function) showing all possible values (or intervals) and how often those values occur.\n",
        "\n",
        "# For categorical data, we'll often see percentage or exact number for each of the category.\n",
        "# For numerical data, we'll see the data split into appropriate sized buckets ordered from smallest to largest"
      ],
      "metadata": {
        "id": "yeClrALRQJfg"
      },
      "execution_count": null,
      "outputs": []
    },
    {
      "cell_type": "code",
      "source": [
        "# LEARNING OBJECTIVES\n",
        "# Use frequency tables and histograms to display and interpret the distribution of a variable.\n",
        "# Compute and interpret the mean, median, and mode of a distribution and identify situations in which the mean, median, or mode is the most appropriate measure of central tendency.\n",
        "# Compute and interpret the range and standard deviation of a distribution.\n",
        "# Compute and interpret percentile ranks and z scores."
      ],
      "metadata": {
        "id": "15Z6WEarOZIn"
      },
      "execution_count": null,
      "outputs": []
    },
    {
      "cell_type": "code",
      "source": [
        "from google.colab import drive\n",
        "drive.mount('/content/drive/')"
      ],
      "metadata": {
        "colab": {
          "base_uri": "https://localhost:8080/"
        },
        "id": "KO3bNDiSMJhv",
        "outputId": "616f1b94-cd4f-4ac2-85d9-8c95455b3030"
      },
      "execution_count": null,
      "outputs": [
        {
          "output_type": "stream",
          "name": "stdout",
          "text": [
            "Mounted at /content/drive/\n"
          ]
        }
      ]
    },
    {
      "cell_type": "code",
      "source": [
        "from pydrive.auth import GoogleAuth\n",
        "from pydrive.drive import GoogleDrive"
      ],
      "metadata": {
        "id": "n-I4ElluML0b"
      },
      "execution_count": null,
      "outputs": []
    },
    {
      "cell_type": "code",
      "source": [
        "import pandas as pd\n",
        "df = pd.read_csv('/content/drive/My Drive/DEA/course_syllabus.csv')\n",
        "# Convert date from string to date times\n",
        "df"
      ],
      "metadata": {
        "colab": {
          "base_uri": "https://localhost:8080/",
          "height": 424
        },
        "id": "nzPZp_qyHrQR",
        "outputId": "a1db3b45-48a2-4227-d328-9a25b1b8db94"
      },
      "execution_count": null,
      "outputs": [
        {
          "output_type": "execute_result",
          "data": {
            "text/plain": [
              "      YEAR  REGULATIONS  DEGREE DEPARTMENT  SEMESTER COURSE CODE  \\\n",
              "0      1.0       2021.0  B.TECH    AI & DS       1.0      HS3151   \n",
              "1      1.0       2021.0  B.TECH    AI & DS       1.0      MA3151   \n",
              "2      1.0       2021.0  B.TECH    AI & DS       1.0      PH3151   \n",
              "3      1.0       2021.0  B.TECH    AI & DS       1.0      CY3151   \n",
              "4      1.0       2021.0  B.TECH    AI & DS       1.0      GE3151   \n",
              "...    ...          ...     ...        ...       ...         ...   \n",
              "1735   4.0       2017.0     B.E        CSE       8.0      CS8084   \n",
              "1736   4.0       2017.0     B.E        CSE       8.0      CS8001   \n",
              "1737   4.0       2017.0     B.E        CSE       8.0      IT8077   \n",
              "1738   4.0       2017.0     B.E        CSE       8.0      GE8073   \n",
              "1739   4.0       2017.0     B.E        CSE       8.0      CS8811   \n",
              "\n",
              "                                COURSE TITLE CATEGORY    SUBJECT_TYPE  \\\n",
              "0                   Professional English - I     HSMC          THEORY   \n",
              "1                      Matrices and Calculus      BSC          THEORY   \n",
              "2                        Engineering Physics      BSC          THEORY   \n",
              "3                      Engineering Chemistry      BSC          THEORY   \n",
              "4     Problem Solving and Python Programming      ESC          THEORY   \n",
              "...                                      ...      ...             ...   \n",
              "1735             Natural Language Processing       PE  PRO_ELECTIVE_5   \n",
              "1736                     Parallel Algorithms       PE  PRO_ELECTIVE_5   \n",
              "1737                       Speech Processing       PE  PRO_ELECTIVE_5   \n",
              "1738            Fundamentals of Nano Science       PE  PRO_ELECTIVE_5   \n",
              "1739                            Project Work      EEC      PRACTICALS   \n",
              "\n",
              "      LECTURER  TUTORIAL  PRACTICAL  TOTAL\\nCONTACT\\nPERIODS CREDITS  \n",
              "0          3.0       0.0        0.0                      3.0       3  \n",
              "1          3.0       1.0        0.0                      4.0       4  \n",
              "2          3.0       0.0        0.0                      3.0       3  \n",
              "3          3.0       0.0        0.0                      3.0       3  \n",
              "4          3.0       0.0        0.0                      3.0       3  \n",
              "...        ...       ...        ...                      ...     ...  \n",
              "1735       3.0       0.0        0.0                      3.0       3  \n",
              "1736       3.0       0.0        0.0                      3.0       3  \n",
              "1737       3.0       0.0        0.0                      3.0       3  \n",
              "1738       3.0       0.0        0.0                      3.0       3  \n",
              "1739       0.0       0.0       20.0                     20.0      10  \n",
              "\n",
              "[1740 rows x 14 columns]"
            ],
            "text/html": [
              "\n",
              "  <div id=\"df-df0c41d0-8fa8-4b88-87d7-e326fe16c441\">\n",
              "    <div class=\"colab-df-container\">\n",
              "      <div>\n",
              "<style scoped>\n",
              "    .dataframe tbody tr th:only-of-type {\n",
              "        vertical-align: middle;\n",
              "    }\n",
              "\n",
              "    .dataframe tbody tr th {\n",
              "        vertical-align: top;\n",
              "    }\n",
              "\n",
              "    .dataframe thead th {\n",
              "        text-align: right;\n",
              "    }\n",
              "</style>\n",
              "<table border=\"1\" class=\"dataframe\">\n",
              "  <thead>\n",
              "    <tr style=\"text-align: right;\">\n",
              "      <th></th>\n",
              "      <th>YEAR</th>\n",
              "      <th>REGULATIONS</th>\n",
              "      <th>DEGREE</th>\n",
              "      <th>DEPARTMENT</th>\n",
              "      <th>SEMESTER</th>\n",
              "      <th>COURSE CODE</th>\n",
              "      <th>COURSE TITLE</th>\n",
              "      <th>CATEGORY</th>\n",
              "      <th>SUBJECT_TYPE</th>\n",
              "      <th>LECTURER</th>\n",
              "      <th>TUTORIAL</th>\n",
              "      <th>PRACTICAL</th>\n",
              "      <th>TOTAL\\nCONTACT\\nPERIODS</th>\n",
              "      <th>CREDITS</th>\n",
              "    </tr>\n",
              "  </thead>\n",
              "  <tbody>\n",
              "    <tr>\n",
              "      <th>0</th>\n",
              "      <td>1.0</td>\n",
              "      <td>2021.0</td>\n",
              "      <td>B.TECH</td>\n",
              "      <td>AI &amp; DS</td>\n",
              "      <td>1.0</td>\n",
              "      <td>HS3151</td>\n",
              "      <td>Professional English - I</td>\n",
              "      <td>HSMC</td>\n",
              "      <td>THEORY</td>\n",
              "      <td>3.0</td>\n",
              "      <td>0.0</td>\n",
              "      <td>0.0</td>\n",
              "      <td>3.0</td>\n",
              "      <td>3</td>\n",
              "    </tr>\n",
              "    <tr>\n",
              "      <th>1</th>\n",
              "      <td>1.0</td>\n",
              "      <td>2021.0</td>\n",
              "      <td>B.TECH</td>\n",
              "      <td>AI &amp; DS</td>\n",
              "      <td>1.0</td>\n",
              "      <td>MA3151</td>\n",
              "      <td>Matrices and Calculus</td>\n",
              "      <td>BSC</td>\n",
              "      <td>THEORY</td>\n",
              "      <td>3.0</td>\n",
              "      <td>1.0</td>\n",
              "      <td>0.0</td>\n",
              "      <td>4.0</td>\n",
              "      <td>4</td>\n",
              "    </tr>\n",
              "    <tr>\n",
              "      <th>2</th>\n",
              "      <td>1.0</td>\n",
              "      <td>2021.0</td>\n",
              "      <td>B.TECH</td>\n",
              "      <td>AI &amp; DS</td>\n",
              "      <td>1.0</td>\n",
              "      <td>PH3151</td>\n",
              "      <td>Engineering Physics</td>\n",
              "      <td>BSC</td>\n",
              "      <td>THEORY</td>\n",
              "      <td>3.0</td>\n",
              "      <td>0.0</td>\n",
              "      <td>0.0</td>\n",
              "      <td>3.0</td>\n",
              "      <td>3</td>\n",
              "    </tr>\n",
              "    <tr>\n",
              "      <th>3</th>\n",
              "      <td>1.0</td>\n",
              "      <td>2021.0</td>\n",
              "      <td>B.TECH</td>\n",
              "      <td>AI &amp; DS</td>\n",
              "      <td>1.0</td>\n",
              "      <td>CY3151</td>\n",
              "      <td>Engineering Chemistry</td>\n",
              "      <td>BSC</td>\n",
              "      <td>THEORY</td>\n",
              "      <td>3.0</td>\n",
              "      <td>0.0</td>\n",
              "      <td>0.0</td>\n",
              "      <td>3.0</td>\n",
              "      <td>3</td>\n",
              "    </tr>\n",
              "    <tr>\n",
              "      <th>4</th>\n",
              "      <td>1.0</td>\n",
              "      <td>2021.0</td>\n",
              "      <td>B.TECH</td>\n",
              "      <td>AI &amp; DS</td>\n",
              "      <td>1.0</td>\n",
              "      <td>GE3151</td>\n",
              "      <td>Problem Solving and Python Programming</td>\n",
              "      <td>ESC</td>\n",
              "      <td>THEORY</td>\n",
              "      <td>3.0</td>\n",
              "      <td>0.0</td>\n",
              "      <td>0.0</td>\n",
              "      <td>3.0</td>\n",
              "      <td>3</td>\n",
              "    </tr>\n",
              "    <tr>\n",
              "      <th>...</th>\n",
              "      <td>...</td>\n",
              "      <td>...</td>\n",
              "      <td>...</td>\n",
              "      <td>...</td>\n",
              "      <td>...</td>\n",
              "      <td>...</td>\n",
              "      <td>...</td>\n",
              "      <td>...</td>\n",
              "      <td>...</td>\n",
              "      <td>...</td>\n",
              "      <td>...</td>\n",
              "      <td>...</td>\n",
              "      <td>...</td>\n",
              "      <td>...</td>\n",
              "    </tr>\n",
              "    <tr>\n",
              "      <th>1735</th>\n",
              "      <td>4.0</td>\n",
              "      <td>2017.0</td>\n",
              "      <td>B.E</td>\n",
              "      <td>CSE</td>\n",
              "      <td>8.0</td>\n",
              "      <td>CS8084</td>\n",
              "      <td>Natural Language Processing</td>\n",
              "      <td>PE</td>\n",
              "      <td>PRO_ELECTIVE_5</td>\n",
              "      <td>3.0</td>\n",
              "      <td>0.0</td>\n",
              "      <td>0.0</td>\n",
              "      <td>3.0</td>\n",
              "      <td>3</td>\n",
              "    </tr>\n",
              "    <tr>\n",
              "      <th>1736</th>\n",
              "      <td>4.0</td>\n",
              "      <td>2017.0</td>\n",
              "      <td>B.E</td>\n",
              "      <td>CSE</td>\n",
              "      <td>8.0</td>\n",
              "      <td>CS8001</td>\n",
              "      <td>Parallel Algorithms</td>\n",
              "      <td>PE</td>\n",
              "      <td>PRO_ELECTIVE_5</td>\n",
              "      <td>3.0</td>\n",
              "      <td>0.0</td>\n",
              "      <td>0.0</td>\n",
              "      <td>3.0</td>\n",
              "      <td>3</td>\n",
              "    </tr>\n",
              "    <tr>\n",
              "      <th>1737</th>\n",
              "      <td>4.0</td>\n",
              "      <td>2017.0</td>\n",
              "      <td>B.E</td>\n",
              "      <td>CSE</td>\n",
              "      <td>8.0</td>\n",
              "      <td>IT8077</td>\n",
              "      <td>Speech Processing</td>\n",
              "      <td>PE</td>\n",
              "      <td>PRO_ELECTIVE_5</td>\n",
              "      <td>3.0</td>\n",
              "      <td>0.0</td>\n",
              "      <td>0.0</td>\n",
              "      <td>3.0</td>\n",
              "      <td>3</td>\n",
              "    </tr>\n",
              "    <tr>\n",
              "      <th>1738</th>\n",
              "      <td>4.0</td>\n",
              "      <td>2017.0</td>\n",
              "      <td>B.E</td>\n",
              "      <td>CSE</td>\n",
              "      <td>8.0</td>\n",
              "      <td>GE8073</td>\n",
              "      <td>Fundamentals of Nano Science</td>\n",
              "      <td>PE</td>\n",
              "      <td>PRO_ELECTIVE_5</td>\n",
              "      <td>3.0</td>\n",
              "      <td>0.0</td>\n",
              "      <td>0.0</td>\n",
              "      <td>3.0</td>\n",
              "      <td>3</td>\n",
              "    </tr>\n",
              "    <tr>\n",
              "      <th>1739</th>\n",
              "      <td>4.0</td>\n",
              "      <td>2017.0</td>\n",
              "      <td>B.E</td>\n",
              "      <td>CSE</td>\n",
              "      <td>8.0</td>\n",
              "      <td>CS8811</td>\n",
              "      <td>Project Work</td>\n",
              "      <td>EEC</td>\n",
              "      <td>PRACTICALS</td>\n",
              "      <td>0.0</td>\n",
              "      <td>0.0</td>\n",
              "      <td>20.0</td>\n",
              "      <td>20.0</td>\n",
              "      <td>10</td>\n",
              "    </tr>\n",
              "  </tbody>\n",
              "</table>\n",
              "<p>1740 rows × 14 columns</p>\n",
              "</div>\n",
              "      <button class=\"colab-df-convert\" onclick=\"convertToInteractive('df-df0c41d0-8fa8-4b88-87d7-e326fe16c441')\"\n",
              "              title=\"Convert this dataframe to an interactive table.\"\n",
              "              style=\"display:none;\">\n",
              "        \n",
              "  <svg xmlns=\"http://www.w3.org/2000/svg\" height=\"24px\"viewBox=\"0 0 24 24\"\n",
              "       width=\"24px\">\n",
              "    <path d=\"M0 0h24v24H0V0z\" fill=\"none\"/>\n",
              "    <path d=\"M18.56 5.44l.94 2.06.94-2.06 2.06-.94-2.06-.94-.94-2.06-.94 2.06-2.06.94zm-11 1L8.5 8.5l.94-2.06 2.06-.94-2.06-.94L8.5 2.5l-.94 2.06-2.06.94zm10 10l.94 2.06.94-2.06 2.06-.94-2.06-.94-.94-2.06-.94 2.06-2.06.94z\"/><path d=\"M17.41 7.96l-1.37-1.37c-.4-.4-.92-.59-1.43-.59-.52 0-1.04.2-1.43.59L10.3 9.45l-7.72 7.72c-.78.78-.78 2.05 0 2.83L4 21.41c.39.39.9.59 1.41.59.51 0 1.02-.2 1.41-.59l7.78-7.78 2.81-2.81c.8-.78.8-2.07 0-2.86zM5.41 20L4 18.59l7.72-7.72 1.47 1.35L5.41 20z\"/>\n",
              "  </svg>\n",
              "      </button>\n",
              "      \n",
              "  <style>\n",
              "    .colab-df-container {\n",
              "      display:flex;\n",
              "      flex-wrap:wrap;\n",
              "      gap: 12px;\n",
              "    }\n",
              "\n",
              "    .colab-df-convert {\n",
              "      background-color: #E8F0FE;\n",
              "      border: none;\n",
              "      border-radius: 50%;\n",
              "      cursor: pointer;\n",
              "      display: none;\n",
              "      fill: #1967D2;\n",
              "      height: 32px;\n",
              "      padding: 0 0 0 0;\n",
              "      width: 32px;\n",
              "    }\n",
              "\n",
              "    .colab-df-convert:hover {\n",
              "      background-color: #E2EBFA;\n",
              "      box-shadow: 0px 1px 2px rgba(60, 64, 67, 0.3), 0px 1px 3px 1px rgba(60, 64, 67, 0.15);\n",
              "      fill: #174EA6;\n",
              "    }\n",
              "\n",
              "    [theme=dark] .colab-df-convert {\n",
              "      background-color: #3B4455;\n",
              "      fill: #D2E3FC;\n",
              "    }\n",
              "\n",
              "    [theme=dark] .colab-df-convert:hover {\n",
              "      background-color: #434B5C;\n",
              "      box-shadow: 0px 1px 3px 1px rgba(0, 0, 0, 0.15);\n",
              "      filter: drop-shadow(0px 1px 2px rgba(0, 0, 0, 0.3));\n",
              "      fill: #FFFFFF;\n",
              "    }\n",
              "  </style>\n",
              "\n",
              "      <script>\n",
              "        const buttonEl =\n",
              "          document.querySelector('#df-df0c41d0-8fa8-4b88-87d7-e326fe16c441 button.colab-df-convert');\n",
              "        buttonEl.style.display =\n",
              "          google.colab.kernel.accessAllowed ? 'block' : 'none';\n",
              "\n",
              "        async function convertToInteractive(key) {\n",
              "          const element = document.querySelector('#df-df0c41d0-8fa8-4b88-87d7-e326fe16c441');\n",
              "          const dataTable =\n",
              "            await google.colab.kernel.invokeFunction('convertToInteractive',\n",
              "                                                     [key], {});\n",
              "          if (!dataTable) return;\n",
              "\n",
              "          const docLinkHtml = 'Like what you see? Visit the ' +\n",
              "            '<a target=\"_blank\" href=https://colab.research.google.com/notebooks/data_table.ipynb>data table notebook</a>'\n",
              "            + ' to learn more about interactive tables.';\n",
              "          element.innerHTML = '';\n",
              "          dataTable['output_type'] = 'display_data';\n",
              "          await google.colab.output.renderOutput(dataTable, element);\n",
              "          const docLink = document.createElement('div');\n",
              "          docLink.innerHTML = docLinkHtml;\n",
              "          element.appendChild(docLink);\n",
              "        }\n",
              "      </script>\n",
              "    </div>\n",
              "  </div>\n",
              "  "
            ]
          },
          "metadata": {},
          "execution_count": 15
        }
      ]
    },
    {
      "cell_type": "markdown",
      "source": [],
      "metadata": {
        "id": "JJgLGmxqLIm7"
      }
    },
    {
      "cell_type": "code",
      "source": [
        "ADdf = df[(df.DEGREE=='B.TECH')  & (df.DEPARTMENT=='AI & DS')] \n",
        "ADdf"
      ],
      "metadata": {
        "colab": {
          "base_uri": "https://localhost:8080/",
          "height": 468
        },
        "id": "VDFxG3toICWS",
        "outputId": "5889292a-cdcc-4b49-a8c7-31abe5ca8560"
      },
      "execution_count": null,
      "outputs": [
        {
          "output_type": "execute_result",
          "data": {
            "text/plain": [
              "      YEAR  REGULATIONS  DEGREE DEPARTMENT  SEMESTER COURSE CODE  \\\n",
              "0      1.0       2021.0  B.TECH    AI & DS       1.0      HS3151   \n",
              "1      1.0       2021.0  B.TECH    AI & DS       1.0      MA3151   \n",
              "2      1.0       2021.0  B.TECH    AI & DS       1.0      PH3151   \n",
              "3      1.0       2021.0  B.TECH    AI & DS       1.0      CY3151   \n",
              "4      1.0       2021.0  B.TECH    AI & DS       1.0      GE3151   \n",
              "...    ...          ...     ...        ...       ...         ...   \n",
              "1230   4.0       2017.0  B.TECH    AI & DS       8.0      AD8081   \n",
              "1231   4.0       2017.0  B.TECH    AI & DS       8.0      MG8591   \n",
              "1232   4.0       2017.0  B.TECH    AI & DS       8.0      AD8015   \n",
              "1233   4.0       2017.0  B.TECH    AI & DS       8.0      AD8016   \n",
              "1234   4.0       2017.0  B.TECH    AI & DS       8.0      AD8811   \n",
              "\n",
              "                                COURSE TITLE CATEGORY  \\\n",
              "0                   Professional English - I     HSMC   \n",
              "1                      Matrices and Calculus      BSC   \n",
              "2                        Engineering Physics      BSC   \n",
              "3                      Engineering Chemistry      BSC   \n",
              "4     Problem Solving and Python Programming      ESC   \n",
              "...                                      ...      ...   \n",
              "1230         Cognitive Science and Analytics       PE   \n",
              "1231                Principles of Management       PE   \n",
              "1232    Bio-inspired Optimization Techniques       PE   \n",
              "1233    Information Extraction and Retrieval       PE   \n",
              "1234                            Project Work       PC   \n",
              "\n",
              "                 SUBJECT_TYPE  LECTURER  TUTORIAL  PRACTICAL  \\\n",
              "0                      THEORY       3.0       0.0        0.0   \n",
              "1                      THEORY       3.0       1.0        0.0   \n",
              "2                      THEORY       3.0       0.0        0.0   \n",
              "3                      THEORY       3.0       0.0        0.0   \n",
              "4                      THEORY       3.0       0.0        0.0   \n",
              "...                       ...       ...       ...        ...   \n",
              "1230  PROFESSIONAL ELECTIVE 5       3.0       0.0        0.0   \n",
              "1231  PROFESSIONAL ELECTIVE 5       3.0       0.0        0.0   \n",
              "1232  PROFESSIOANL ELECTIVE 5       3.0       0.0        0.0   \n",
              "1233  PROFESSIONAL ELECTIVE 5       3.0       0.0        0.0   \n",
              "1234                PRACTICAL       0.0       0.0       20.0   \n",
              "\n",
              "      TOTAL\\nCONTACT\\nPERIODS CREDITS  \n",
              "0                         3.0       3  \n",
              "1                         4.0       4  \n",
              "2                         3.0       3  \n",
              "3                         3.0       3  \n",
              "4                         3.0       3  \n",
              "...                       ...     ...  \n",
              "1230                      3.0       3  \n",
              "1231                      3.0       3  \n",
              "1232                      3.0       3  \n",
              "1233                      3.0       3  \n",
              "1234                     20.0      10  \n",
              "\n",
              "[248 rows x 14 columns]"
            ],
            "text/html": [
              "\n",
              "  <div id=\"df-c2e059e1-f1b0-4d7c-80a2-16f77790297e\">\n",
              "    <div class=\"colab-df-container\">\n",
              "      <div>\n",
              "<style scoped>\n",
              "    .dataframe tbody tr th:only-of-type {\n",
              "        vertical-align: middle;\n",
              "    }\n",
              "\n",
              "    .dataframe tbody tr th {\n",
              "        vertical-align: top;\n",
              "    }\n",
              "\n",
              "    .dataframe thead th {\n",
              "        text-align: right;\n",
              "    }\n",
              "</style>\n",
              "<table border=\"1\" class=\"dataframe\">\n",
              "  <thead>\n",
              "    <tr style=\"text-align: right;\">\n",
              "      <th></th>\n",
              "      <th>YEAR</th>\n",
              "      <th>REGULATIONS</th>\n",
              "      <th>DEGREE</th>\n",
              "      <th>DEPARTMENT</th>\n",
              "      <th>SEMESTER</th>\n",
              "      <th>COURSE CODE</th>\n",
              "      <th>COURSE TITLE</th>\n",
              "      <th>CATEGORY</th>\n",
              "      <th>SUBJECT_TYPE</th>\n",
              "      <th>LECTURER</th>\n",
              "      <th>TUTORIAL</th>\n",
              "      <th>PRACTICAL</th>\n",
              "      <th>TOTAL\\nCONTACT\\nPERIODS</th>\n",
              "      <th>CREDITS</th>\n",
              "    </tr>\n",
              "  </thead>\n",
              "  <tbody>\n",
              "    <tr>\n",
              "      <th>0</th>\n",
              "      <td>1.0</td>\n",
              "      <td>2021.0</td>\n",
              "      <td>B.TECH</td>\n",
              "      <td>AI &amp; DS</td>\n",
              "      <td>1.0</td>\n",
              "      <td>HS3151</td>\n",
              "      <td>Professional English - I</td>\n",
              "      <td>HSMC</td>\n",
              "      <td>THEORY</td>\n",
              "      <td>3.0</td>\n",
              "      <td>0.0</td>\n",
              "      <td>0.0</td>\n",
              "      <td>3.0</td>\n",
              "      <td>3</td>\n",
              "    </tr>\n",
              "    <tr>\n",
              "      <th>1</th>\n",
              "      <td>1.0</td>\n",
              "      <td>2021.0</td>\n",
              "      <td>B.TECH</td>\n",
              "      <td>AI &amp; DS</td>\n",
              "      <td>1.0</td>\n",
              "      <td>MA3151</td>\n",
              "      <td>Matrices and Calculus</td>\n",
              "      <td>BSC</td>\n",
              "      <td>THEORY</td>\n",
              "      <td>3.0</td>\n",
              "      <td>1.0</td>\n",
              "      <td>0.0</td>\n",
              "      <td>4.0</td>\n",
              "      <td>4</td>\n",
              "    </tr>\n",
              "    <tr>\n",
              "      <th>2</th>\n",
              "      <td>1.0</td>\n",
              "      <td>2021.0</td>\n",
              "      <td>B.TECH</td>\n",
              "      <td>AI &amp; DS</td>\n",
              "      <td>1.0</td>\n",
              "      <td>PH3151</td>\n",
              "      <td>Engineering Physics</td>\n",
              "      <td>BSC</td>\n",
              "      <td>THEORY</td>\n",
              "      <td>3.0</td>\n",
              "      <td>0.0</td>\n",
              "      <td>0.0</td>\n",
              "      <td>3.0</td>\n",
              "      <td>3</td>\n",
              "    </tr>\n",
              "    <tr>\n",
              "      <th>3</th>\n",
              "      <td>1.0</td>\n",
              "      <td>2021.0</td>\n",
              "      <td>B.TECH</td>\n",
              "      <td>AI &amp; DS</td>\n",
              "      <td>1.0</td>\n",
              "      <td>CY3151</td>\n",
              "      <td>Engineering Chemistry</td>\n",
              "      <td>BSC</td>\n",
              "      <td>THEORY</td>\n",
              "      <td>3.0</td>\n",
              "      <td>0.0</td>\n",
              "      <td>0.0</td>\n",
              "      <td>3.0</td>\n",
              "      <td>3</td>\n",
              "    </tr>\n",
              "    <tr>\n",
              "      <th>4</th>\n",
              "      <td>1.0</td>\n",
              "      <td>2021.0</td>\n",
              "      <td>B.TECH</td>\n",
              "      <td>AI &amp; DS</td>\n",
              "      <td>1.0</td>\n",
              "      <td>GE3151</td>\n",
              "      <td>Problem Solving and Python Programming</td>\n",
              "      <td>ESC</td>\n",
              "      <td>THEORY</td>\n",
              "      <td>3.0</td>\n",
              "      <td>0.0</td>\n",
              "      <td>0.0</td>\n",
              "      <td>3.0</td>\n",
              "      <td>3</td>\n",
              "    </tr>\n",
              "    <tr>\n",
              "      <th>...</th>\n",
              "      <td>...</td>\n",
              "      <td>...</td>\n",
              "      <td>...</td>\n",
              "      <td>...</td>\n",
              "      <td>...</td>\n",
              "      <td>...</td>\n",
              "      <td>...</td>\n",
              "      <td>...</td>\n",
              "      <td>...</td>\n",
              "      <td>...</td>\n",
              "      <td>...</td>\n",
              "      <td>...</td>\n",
              "      <td>...</td>\n",
              "      <td>...</td>\n",
              "    </tr>\n",
              "    <tr>\n",
              "      <th>1230</th>\n",
              "      <td>4.0</td>\n",
              "      <td>2017.0</td>\n",
              "      <td>B.TECH</td>\n",
              "      <td>AI &amp; DS</td>\n",
              "      <td>8.0</td>\n",
              "      <td>AD8081</td>\n",
              "      <td>Cognitive Science and Analytics</td>\n",
              "      <td>PE</td>\n",
              "      <td>PROFESSIONAL ELECTIVE 5</td>\n",
              "      <td>3.0</td>\n",
              "      <td>0.0</td>\n",
              "      <td>0.0</td>\n",
              "      <td>3.0</td>\n",
              "      <td>3</td>\n",
              "    </tr>\n",
              "    <tr>\n",
              "      <th>1231</th>\n",
              "      <td>4.0</td>\n",
              "      <td>2017.0</td>\n",
              "      <td>B.TECH</td>\n",
              "      <td>AI &amp; DS</td>\n",
              "      <td>8.0</td>\n",
              "      <td>MG8591</td>\n",
              "      <td>Principles of Management</td>\n",
              "      <td>PE</td>\n",
              "      <td>PROFESSIONAL ELECTIVE 5</td>\n",
              "      <td>3.0</td>\n",
              "      <td>0.0</td>\n",
              "      <td>0.0</td>\n",
              "      <td>3.0</td>\n",
              "      <td>3</td>\n",
              "    </tr>\n",
              "    <tr>\n",
              "      <th>1232</th>\n",
              "      <td>4.0</td>\n",
              "      <td>2017.0</td>\n",
              "      <td>B.TECH</td>\n",
              "      <td>AI &amp; DS</td>\n",
              "      <td>8.0</td>\n",
              "      <td>AD8015</td>\n",
              "      <td>Bio-inspired Optimization Techniques</td>\n",
              "      <td>PE</td>\n",
              "      <td>PROFESSIOANL ELECTIVE 5</td>\n",
              "      <td>3.0</td>\n",
              "      <td>0.0</td>\n",
              "      <td>0.0</td>\n",
              "      <td>3.0</td>\n",
              "      <td>3</td>\n",
              "    </tr>\n",
              "    <tr>\n",
              "      <th>1233</th>\n",
              "      <td>4.0</td>\n",
              "      <td>2017.0</td>\n",
              "      <td>B.TECH</td>\n",
              "      <td>AI &amp; DS</td>\n",
              "      <td>8.0</td>\n",
              "      <td>AD8016</td>\n",
              "      <td>Information Extraction and Retrieval</td>\n",
              "      <td>PE</td>\n",
              "      <td>PROFESSIONAL ELECTIVE 5</td>\n",
              "      <td>3.0</td>\n",
              "      <td>0.0</td>\n",
              "      <td>0.0</td>\n",
              "      <td>3.0</td>\n",
              "      <td>3</td>\n",
              "    </tr>\n",
              "    <tr>\n",
              "      <th>1234</th>\n",
              "      <td>4.0</td>\n",
              "      <td>2017.0</td>\n",
              "      <td>B.TECH</td>\n",
              "      <td>AI &amp; DS</td>\n",
              "      <td>8.0</td>\n",
              "      <td>AD8811</td>\n",
              "      <td>Project Work</td>\n",
              "      <td>PC</td>\n",
              "      <td>PRACTICAL</td>\n",
              "      <td>0.0</td>\n",
              "      <td>0.0</td>\n",
              "      <td>20.0</td>\n",
              "      <td>20.0</td>\n",
              "      <td>10</td>\n",
              "    </tr>\n",
              "  </tbody>\n",
              "</table>\n",
              "<p>248 rows × 14 columns</p>\n",
              "</div>\n",
              "      <button class=\"colab-df-convert\" onclick=\"convertToInteractive('df-c2e059e1-f1b0-4d7c-80a2-16f77790297e')\"\n",
              "              title=\"Convert this dataframe to an interactive table.\"\n",
              "              style=\"display:none;\">\n",
              "        \n",
              "  <svg xmlns=\"http://www.w3.org/2000/svg\" height=\"24px\"viewBox=\"0 0 24 24\"\n",
              "       width=\"24px\">\n",
              "    <path d=\"M0 0h24v24H0V0z\" fill=\"none\"/>\n",
              "    <path d=\"M18.56 5.44l.94 2.06.94-2.06 2.06-.94-2.06-.94-.94-2.06-.94 2.06-2.06.94zm-11 1L8.5 8.5l.94-2.06 2.06-.94-2.06-.94L8.5 2.5l-.94 2.06-2.06.94zm10 10l.94 2.06.94-2.06 2.06-.94-2.06-.94-.94-2.06-.94 2.06-2.06.94z\"/><path d=\"M17.41 7.96l-1.37-1.37c-.4-.4-.92-.59-1.43-.59-.52 0-1.04.2-1.43.59L10.3 9.45l-7.72 7.72c-.78.78-.78 2.05 0 2.83L4 21.41c.39.39.9.59 1.41.59.51 0 1.02-.2 1.41-.59l7.78-7.78 2.81-2.81c.8-.78.8-2.07 0-2.86zM5.41 20L4 18.59l7.72-7.72 1.47 1.35L5.41 20z\"/>\n",
              "  </svg>\n",
              "      </button>\n",
              "      \n",
              "  <style>\n",
              "    .colab-df-container {\n",
              "      display:flex;\n",
              "      flex-wrap:wrap;\n",
              "      gap: 12px;\n",
              "    }\n",
              "\n",
              "    .colab-df-convert {\n",
              "      background-color: #E8F0FE;\n",
              "      border: none;\n",
              "      border-radius: 50%;\n",
              "      cursor: pointer;\n",
              "      display: none;\n",
              "      fill: #1967D2;\n",
              "      height: 32px;\n",
              "      padding: 0 0 0 0;\n",
              "      width: 32px;\n",
              "    }\n",
              "\n",
              "    .colab-df-convert:hover {\n",
              "      background-color: #E2EBFA;\n",
              "      box-shadow: 0px 1px 2px rgba(60, 64, 67, 0.3), 0px 1px 3px 1px rgba(60, 64, 67, 0.15);\n",
              "      fill: #174EA6;\n",
              "    }\n",
              "\n",
              "    [theme=dark] .colab-df-convert {\n",
              "      background-color: #3B4455;\n",
              "      fill: #D2E3FC;\n",
              "    }\n",
              "\n",
              "    [theme=dark] .colab-df-convert:hover {\n",
              "      background-color: #434B5C;\n",
              "      box-shadow: 0px 1px 3px 1px rgba(0, 0, 0, 0.15);\n",
              "      filter: drop-shadow(0px 1px 2px rgba(0, 0, 0, 0.3));\n",
              "      fill: #FFFFFF;\n",
              "    }\n",
              "  </style>\n",
              "\n",
              "      <script>\n",
              "        const buttonEl =\n",
              "          document.querySelector('#df-c2e059e1-f1b0-4d7c-80a2-16f77790297e button.colab-df-convert');\n",
              "        buttonEl.style.display =\n",
              "          google.colab.kernel.accessAllowed ? 'block' : 'none';\n",
              "\n",
              "        async function convertToInteractive(key) {\n",
              "          const element = document.querySelector('#df-c2e059e1-f1b0-4d7c-80a2-16f77790297e');\n",
              "          const dataTable =\n",
              "            await google.colab.kernel.invokeFunction('convertToInteractive',\n",
              "                                                     [key], {});\n",
              "          if (!dataTable) return;\n",
              "\n",
              "          const docLinkHtml = 'Like what you see? Visit the ' +\n",
              "            '<a target=\"_blank\" href=https://colab.research.google.com/notebooks/data_table.ipynb>data table notebook</a>'\n",
              "            + ' to learn more about interactive tables.';\n",
              "          element.innerHTML = '';\n",
              "          dataTable['output_type'] = 'display_data';\n",
              "          await google.colab.output.renderOutput(dataTable, element);\n",
              "          const docLink = document.createElement('div');\n",
              "          docLink.innerHTML = docLinkHtml;\n",
              "          element.appendChild(docLink);\n",
              "        }\n",
              "      </script>\n",
              "    </div>\n",
              "  </div>\n",
              "  "
            ]
          },
          "metadata": {},
          "execution_count": 19
        }
      ]
    },
    {
      "cell_type": "code",
      "source": [
        "import pandas as pd\n",
        "df = pd.read_csv('/content/drive/My Drive/DEA/NithishSyllabusData.csv')\n",
        "# Convert date from string to date times\n",
        "df"
      ],
      "metadata": {
        "colab": {
          "base_uri": "https://localhost:8080/",
          "height": 424
        },
        "id": "Zptvt4W-MQsc",
        "outputId": "0c399312-d004-4196-bcf8-64a5bfe3f775"
      },
      "execution_count": null,
      "outputs": [
        {
          "output_type": "execute_result",
          "data": {
            "text/plain": [
              "    Regulation  Semester Department CourseCode  \\\n",
              "0         R-17         1      AI&DS     HS8151   \n",
              "1         R-17         1      AI&DS     MA8151   \n",
              "2         R-17         1      AI&DS     PH8151   \n",
              "3         R-17         1      AI&DS     CY8151   \n",
              "4         R-17         1      AI&DS     GE8151   \n",
              "..         ...       ...        ...        ...   \n",
              "398       R-21         3        CSE     CS3391   \n",
              "399       R-21         3        CSE     CS3311   \n",
              "400       R-21         3        CSE     CS3381   \n",
              "401       R-21         3        CSE     CS3361   \n",
              "402       R-21         3        CSE     GE3361   \n",
              "\n",
              "                                 CourseName TypeOfCourse  Lecture  Tutorial  \\\n",
              "0                     Communicative English           HS        4         0   \n",
              "1                      Engineering Maths- I           BS        4         0   \n",
              "2                       Engineering Physics           BS        3         0   \n",
              "3                     Engineering Chemistry           BS        3         0   \n",
              "4    Problem Solving and Python Programming           ES        3         0   \n",
              "..                                      ...          ...      ...       ...   \n",
              "398             Object Oriented Programming          PCC        3         0   \n",
              "399              Data Structures Laboratory          PCC        0         0   \n",
              "400  Object Oriented Programming Laboratory          PCC        0         0   \n",
              "401                 Data Science Laboratory          PCC        0         0   \n",
              "402                Professional Development          EEC        0         0   \n",
              "\n",
              "     Practical  Credits  \n",
              "0            0      4.0  \n",
              "1            0      4.0  \n",
              "2            0      3.0  \n",
              "3            0      3.0  \n",
              "4            0      3.0  \n",
              "..         ...      ...  \n",
              "398          0      3.0  \n",
              "399          3      1.5  \n",
              "400          3      1.5  \n",
              "401          4      2.0  \n",
              "402          2      1.0  \n",
              "\n",
              "[403 rows x 10 columns]"
            ],
            "text/html": [
              "\n",
              "  <div id=\"df-afd64248-5745-40a3-b53a-266f029e1107\">\n",
              "    <div class=\"colab-df-container\">\n",
              "      <div>\n",
              "<style scoped>\n",
              "    .dataframe tbody tr th:only-of-type {\n",
              "        vertical-align: middle;\n",
              "    }\n",
              "\n",
              "    .dataframe tbody tr th {\n",
              "        vertical-align: top;\n",
              "    }\n",
              "\n",
              "    .dataframe thead th {\n",
              "        text-align: right;\n",
              "    }\n",
              "</style>\n",
              "<table border=\"1\" class=\"dataframe\">\n",
              "  <thead>\n",
              "    <tr style=\"text-align: right;\">\n",
              "      <th></th>\n",
              "      <th>Regulation</th>\n",
              "      <th>Semester</th>\n",
              "      <th>Department</th>\n",
              "      <th>CourseCode</th>\n",
              "      <th>CourseName</th>\n",
              "      <th>TypeOfCourse</th>\n",
              "      <th>Lecture</th>\n",
              "      <th>Tutorial</th>\n",
              "      <th>Practical</th>\n",
              "      <th>Credits</th>\n",
              "    </tr>\n",
              "  </thead>\n",
              "  <tbody>\n",
              "    <tr>\n",
              "      <th>0</th>\n",
              "      <td>R-17</td>\n",
              "      <td>1</td>\n",
              "      <td>AI&amp;DS</td>\n",
              "      <td>HS8151</td>\n",
              "      <td>Communicative English</td>\n",
              "      <td>HS</td>\n",
              "      <td>4</td>\n",
              "      <td>0</td>\n",
              "      <td>0</td>\n",
              "      <td>4.0</td>\n",
              "    </tr>\n",
              "    <tr>\n",
              "      <th>1</th>\n",
              "      <td>R-17</td>\n",
              "      <td>1</td>\n",
              "      <td>AI&amp;DS</td>\n",
              "      <td>MA8151</td>\n",
              "      <td>Engineering Maths- I</td>\n",
              "      <td>BS</td>\n",
              "      <td>4</td>\n",
              "      <td>0</td>\n",
              "      <td>0</td>\n",
              "      <td>4.0</td>\n",
              "    </tr>\n",
              "    <tr>\n",
              "      <th>2</th>\n",
              "      <td>R-17</td>\n",
              "      <td>1</td>\n",
              "      <td>AI&amp;DS</td>\n",
              "      <td>PH8151</td>\n",
              "      <td>Engineering Physics</td>\n",
              "      <td>BS</td>\n",
              "      <td>3</td>\n",
              "      <td>0</td>\n",
              "      <td>0</td>\n",
              "      <td>3.0</td>\n",
              "    </tr>\n",
              "    <tr>\n",
              "      <th>3</th>\n",
              "      <td>R-17</td>\n",
              "      <td>1</td>\n",
              "      <td>AI&amp;DS</td>\n",
              "      <td>CY8151</td>\n",
              "      <td>Engineering Chemistry</td>\n",
              "      <td>BS</td>\n",
              "      <td>3</td>\n",
              "      <td>0</td>\n",
              "      <td>0</td>\n",
              "      <td>3.0</td>\n",
              "    </tr>\n",
              "    <tr>\n",
              "      <th>4</th>\n",
              "      <td>R-17</td>\n",
              "      <td>1</td>\n",
              "      <td>AI&amp;DS</td>\n",
              "      <td>GE8151</td>\n",
              "      <td>Problem Solving and Python Programming</td>\n",
              "      <td>ES</td>\n",
              "      <td>3</td>\n",
              "      <td>0</td>\n",
              "      <td>0</td>\n",
              "      <td>3.0</td>\n",
              "    </tr>\n",
              "    <tr>\n",
              "      <th>...</th>\n",
              "      <td>...</td>\n",
              "      <td>...</td>\n",
              "      <td>...</td>\n",
              "      <td>...</td>\n",
              "      <td>...</td>\n",
              "      <td>...</td>\n",
              "      <td>...</td>\n",
              "      <td>...</td>\n",
              "      <td>...</td>\n",
              "      <td>...</td>\n",
              "    </tr>\n",
              "    <tr>\n",
              "      <th>398</th>\n",
              "      <td>R-21</td>\n",
              "      <td>3</td>\n",
              "      <td>CSE</td>\n",
              "      <td>CS3391</td>\n",
              "      <td>Object Oriented Programming</td>\n",
              "      <td>PCC</td>\n",
              "      <td>3</td>\n",
              "      <td>0</td>\n",
              "      <td>0</td>\n",
              "      <td>3.0</td>\n",
              "    </tr>\n",
              "    <tr>\n",
              "      <th>399</th>\n",
              "      <td>R-21</td>\n",
              "      <td>3</td>\n",
              "      <td>CSE</td>\n",
              "      <td>CS3311</td>\n",
              "      <td>Data Structures Laboratory</td>\n",
              "      <td>PCC</td>\n",
              "      <td>0</td>\n",
              "      <td>0</td>\n",
              "      <td>3</td>\n",
              "      <td>1.5</td>\n",
              "    </tr>\n",
              "    <tr>\n",
              "      <th>400</th>\n",
              "      <td>R-21</td>\n",
              "      <td>3</td>\n",
              "      <td>CSE</td>\n",
              "      <td>CS3381</td>\n",
              "      <td>Object Oriented Programming Laboratory</td>\n",
              "      <td>PCC</td>\n",
              "      <td>0</td>\n",
              "      <td>0</td>\n",
              "      <td>3</td>\n",
              "      <td>1.5</td>\n",
              "    </tr>\n",
              "    <tr>\n",
              "      <th>401</th>\n",
              "      <td>R-21</td>\n",
              "      <td>3</td>\n",
              "      <td>CSE</td>\n",
              "      <td>CS3361</td>\n",
              "      <td>Data Science Laboratory</td>\n",
              "      <td>PCC</td>\n",
              "      <td>0</td>\n",
              "      <td>0</td>\n",
              "      <td>4</td>\n",
              "      <td>2.0</td>\n",
              "    </tr>\n",
              "    <tr>\n",
              "      <th>402</th>\n",
              "      <td>R-21</td>\n",
              "      <td>3</td>\n",
              "      <td>CSE</td>\n",
              "      <td>GE3361</td>\n",
              "      <td>Professional Development</td>\n",
              "      <td>EEC</td>\n",
              "      <td>0</td>\n",
              "      <td>0</td>\n",
              "      <td>2</td>\n",
              "      <td>1.0</td>\n",
              "    </tr>\n",
              "  </tbody>\n",
              "</table>\n",
              "<p>403 rows × 10 columns</p>\n",
              "</div>\n",
              "      <button class=\"colab-df-convert\" onclick=\"convertToInteractive('df-afd64248-5745-40a3-b53a-266f029e1107')\"\n",
              "              title=\"Convert this dataframe to an interactive table.\"\n",
              "              style=\"display:none;\">\n",
              "        \n",
              "  <svg xmlns=\"http://www.w3.org/2000/svg\" height=\"24px\"viewBox=\"0 0 24 24\"\n",
              "       width=\"24px\">\n",
              "    <path d=\"M0 0h24v24H0V0z\" fill=\"none\"/>\n",
              "    <path d=\"M18.56 5.44l.94 2.06.94-2.06 2.06-.94-2.06-.94-.94-2.06-.94 2.06-2.06.94zm-11 1L8.5 8.5l.94-2.06 2.06-.94-2.06-.94L8.5 2.5l-.94 2.06-2.06.94zm10 10l.94 2.06.94-2.06 2.06-.94-2.06-.94-.94-2.06-.94 2.06-2.06.94z\"/><path d=\"M17.41 7.96l-1.37-1.37c-.4-.4-.92-.59-1.43-.59-.52 0-1.04.2-1.43.59L10.3 9.45l-7.72 7.72c-.78.78-.78 2.05 0 2.83L4 21.41c.39.39.9.59 1.41.59.51 0 1.02-.2 1.41-.59l7.78-7.78 2.81-2.81c.8-.78.8-2.07 0-2.86zM5.41 20L4 18.59l7.72-7.72 1.47 1.35L5.41 20z\"/>\n",
              "  </svg>\n",
              "      </button>\n",
              "      \n",
              "  <style>\n",
              "    .colab-df-container {\n",
              "      display:flex;\n",
              "      flex-wrap:wrap;\n",
              "      gap: 12px;\n",
              "    }\n",
              "\n",
              "    .colab-df-convert {\n",
              "      background-color: #E8F0FE;\n",
              "      border: none;\n",
              "      border-radius: 50%;\n",
              "      cursor: pointer;\n",
              "      display: none;\n",
              "      fill: #1967D2;\n",
              "      height: 32px;\n",
              "      padding: 0 0 0 0;\n",
              "      width: 32px;\n",
              "    }\n",
              "\n",
              "    .colab-df-convert:hover {\n",
              "      background-color: #E2EBFA;\n",
              "      box-shadow: 0px 1px 2px rgba(60, 64, 67, 0.3), 0px 1px 3px 1px rgba(60, 64, 67, 0.15);\n",
              "      fill: #174EA6;\n",
              "    }\n",
              "\n",
              "    [theme=dark] .colab-df-convert {\n",
              "      background-color: #3B4455;\n",
              "      fill: #D2E3FC;\n",
              "    }\n",
              "\n",
              "    [theme=dark] .colab-df-convert:hover {\n",
              "      background-color: #434B5C;\n",
              "      box-shadow: 0px 1px 3px 1px rgba(0, 0, 0, 0.15);\n",
              "      filter: drop-shadow(0px 1px 2px rgba(0, 0, 0, 0.3));\n",
              "      fill: #FFFFFF;\n",
              "    }\n",
              "  </style>\n",
              "\n",
              "      <script>\n",
              "        const buttonEl =\n",
              "          document.querySelector('#df-afd64248-5745-40a3-b53a-266f029e1107 button.colab-df-convert');\n",
              "        buttonEl.style.display =\n",
              "          google.colab.kernel.accessAllowed ? 'block' : 'none';\n",
              "\n",
              "        async function convertToInteractive(key) {\n",
              "          const element = document.querySelector('#df-afd64248-5745-40a3-b53a-266f029e1107');\n",
              "          const dataTable =\n",
              "            await google.colab.kernel.invokeFunction('convertToInteractive',\n",
              "                                                     [key], {});\n",
              "          if (!dataTable) return;\n",
              "\n",
              "          const docLinkHtml = 'Like what you see? Visit the ' +\n",
              "            '<a target=\"_blank\" href=https://colab.research.google.com/notebooks/data_table.ipynb>data table notebook</a>'\n",
              "            + ' to learn more about interactive tables.';\n",
              "          element.innerHTML = '';\n",
              "          dataTable['output_type'] = 'display_data';\n",
              "          await google.colab.output.renderOutput(dataTable, element);\n",
              "          const docLink = document.createElement('div');\n",
              "          docLink.innerHTML = docLinkHtml;\n",
              "          element.appendChild(docLink);\n",
              "        }\n",
              "      </script>\n",
              "    </div>\n",
              "  </div>\n",
              "  "
            ]
          },
          "metadata": {},
          "execution_count": 12
        }
      ]
    },
    {
      "cell_type": "code",
      "source": [
        "ADdf = df[(df.Regulation=='R-21')  & (df.Department=='AI&DS') ] \n",
        "ADdf\n"
      ],
      "metadata": {
        "colab": {
          "base_uri": "https://localhost:8080/",
          "height": 424
        },
        "id": "d_3TYtl8Q59j",
        "outputId": "0653b6dd-0573-4532-a156-19f84c8e806d"
      },
      "execution_count": null,
      "outputs": [
        {
          "output_type": "execute_result",
          "data": {
            "text/plain": [
              "    Regulation  Semester Department CourseCode  \\\n",
              "71        R-21         1      AI&DS     HS3151   \n",
              "72        R-21         1      AI&DS     MA3151   \n",
              "73        R-21         1      AI&DS     PH3151   \n",
              "74        R-21         1      AI&DS     CY3151   \n",
              "75        R-21         1      AI&DS     GE3151   \n",
              "..         ...       ...        ...        ...   \n",
              "281       R-21         7      AI&DS     OEC353   \n",
              "282       R-21         7      AI&DS     OEC354   \n",
              "283       R-21         7      AI&DS     OBM353   \n",
              "284       R-21         7      AI&DS     OBM354   \n",
              "285       R-21         7      AI&DS     OCE354   \n",
              "\n",
              "                                  CourseName TypeOfCourse  Lecture  Tutorial  \\\n",
              "71                  Professional English - I         HSMC        0         0   \n",
              "72                     Matrices and Calculus          BSC        1         0   \n",
              "73                       Engineering Physics          BSC        0         0   \n",
              "74                     Engineering Chemistry          BSC        0         0   \n",
              "75   Problem Solving and Python\\nProgramming          ESC        0         0   \n",
              "..                                       ...          ...      ...       ...   \n",
              "281                              VLSI Design          OEC        3         0   \n",
              "282         Industrial IoT and  Industry 4.0          OEC        2         0   \n",
              "283                         Wearable devices          OEC        3         0   \n",
              "284                      Medical Informatics          OEC        3         0   \n",
              "285               Basics of Water Management          OEC        3         0   \n",
              "\n",
              "     Practical  Credits  \n",
              "71           3      3.0  \n",
              "72           4      4.0  \n",
              "73           3      3.0  \n",
              "74           3      3.0  \n",
              "75           3      3.0  \n",
              "..         ...      ...  \n",
              "281          0      3.0  \n",
              "282          2      4.0  \n",
              "283          0      3.0  \n",
              "284          0      3.0  \n",
              "285          0      3.0  \n",
              "\n",
              "[215 rows x 10 columns]"
            ],
            "text/html": [
              "\n",
              "  <div id=\"df-75e2f2fb-dc12-4946-9aa7-a19e39474514\">\n",
              "    <div class=\"colab-df-container\">\n",
              "      <div>\n",
              "<style scoped>\n",
              "    .dataframe tbody tr th:only-of-type {\n",
              "        vertical-align: middle;\n",
              "    }\n",
              "\n",
              "    .dataframe tbody tr th {\n",
              "        vertical-align: top;\n",
              "    }\n",
              "\n",
              "    .dataframe thead th {\n",
              "        text-align: right;\n",
              "    }\n",
              "</style>\n",
              "<table border=\"1\" class=\"dataframe\">\n",
              "  <thead>\n",
              "    <tr style=\"text-align: right;\">\n",
              "      <th></th>\n",
              "      <th>Regulation</th>\n",
              "      <th>Semester</th>\n",
              "      <th>Department</th>\n",
              "      <th>CourseCode</th>\n",
              "      <th>CourseName</th>\n",
              "      <th>TypeOfCourse</th>\n",
              "      <th>Lecture</th>\n",
              "      <th>Tutorial</th>\n",
              "      <th>Practical</th>\n",
              "      <th>Credits</th>\n",
              "    </tr>\n",
              "  </thead>\n",
              "  <tbody>\n",
              "    <tr>\n",
              "      <th>71</th>\n",
              "      <td>R-21</td>\n",
              "      <td>1</td>\n",
              "      <td>AI&amp;DS</td>\n",
              "      <td>HS3151</td>\n",
              "      <td>Professional English - I</td>\n",
              "      <td>HSMC</td>\n",
              "      <td>0</td>\n",
              "      <td>0</td>\n",
              "      <td>3</td>\n",
              "      <td>3.0</td>\n",
              "    </tr>\n",
              "    <tr>\n",
              "      <th>72</th>\n",
              "      <td>R-21</td>\n",
              "      <td>1</td>\n",
              "      <td>AI&amp;DS</td>\n",
              "      <td>MA3151</td>\n",
              "      <td>Matrices and Calculus</td>\n",
              "      <td>BSC</td>\n",
              "      <td>1</td>\n",
              "      <td>0</td>\n",
              "      <td>4</td>\n",
              "      <td>4.0</td>\n",
              "    </tr>\n",
              "    <tr>\n",
              "      <th>73</th>\n",
              "      <td>R-21</td>\n",
              "      <td>1</td>\n",
              "      <td>AI&amp;DS</td>\n",
              "      <td>PH3151</td>\n",
              "      <td>Engineering Physics</td>\n",
              "      <td>BSC</td>\n",
              "      <td>0</td>\n",
              "      <td>0</td>\n",
              "      <td>3</td>\n",
              "      <td>3.0</td>\n",
              "    </tr>\n",
              "    <tr>\n",
              "      <th>74</th>\n",
              "      <td>R-21</td>\n",
              "      <td>1</td>\n",
              "      <td>AI&amp;DS</td>\n",
              "      <td>CY3151</td>\n",
              "      <td>Engineering Chemistry</td>\n",
              "      <td>BSC</td>\n",
              "      <td>0</td>\n",
              "      <td>0</td>\n",
              "      <td>3</td>\n",
              "      <td>3.0</td>\n",
              "    </tr>\n",
              "    <tr>\n",
              "      <th>75</th>\n",
              "      <td>R-21</td>\n",
              "      <td>1</td>\n",
              "      <td>AI&amp;DS</td>\n",
              "      <td>GE3151</td>\n",
              "      <td>Problem Solving and Python\\nProgramming</td>\n",
              "      <td>ESC</td>\n",
              "      <td>0</td>\n",
              "      <td>0</td>\n",
              "      <td>3</td>\n",
              "      <td>3.0</td>\n",
              "    </tr>\n",
              "    <tr>\n",
              "      <th>...</th>\n",
              "      <td>...</td>\n",
              "      <td>...</td>\n",
              "      <td>...</td>\n",
              "      <td>...</td>\n",
              "      <td>...</td>\n",
              "      <td>...</td>\n",
              "      <td>...</td>\n",
              "      <td>...</td>\n",
              "      <td>...</td>\n",
              "      <td>...</td>\n",
              "    </tr>\n",
              "    <tr>\n",
              "      <th>281</th>\n",
              "      <td>R-21</td>\n",
              "      <td>7</td>\n",
              "      <td>AI&amp;DS</td>\n",
              "      <td>OEC353</td>\n",
              "      <td>VLSI Design</td>\n",
              "      <td>OEC</td>\n",
              "      <td>3</td>\n",
              "      <td>0</td>\n",
              "      <td>0</td>\n",
              "      <td>3.0</td>\n",
              "    </tr>\n",
              "    <tr>\n",
              "      <th>282</th>\n",
              "      <td>R-21</td>\n",
              "      <td>7</td>\n",
              "      <td>AI&amp;DS</td>\n",
              "      <td>OEC354</td>\n",
              "      <td>Industrial IoT and  Industry 4.0</td>\n",
              "      <td>OEC</td>\n",
              "      <td>2</td>\n",
              "      <td>0</td>\n",
              "      <td>2</td>\n",
              "      <td>4.0</td>\n",
              "    </tr>\n",
              "    <tr>\n",
              "      <th>283</th>\n",
              "      <td>R-21</td>\n",
              "      <td>7</td>\n",
              "      <td>AI&amp;DS</td>\n",
              "      <td>OBM353</td>\n",
              "      <td>Wearable devices</td>\n",
              "      <td>OEC</td>\n",
              "      <td>3</td>\n",
              "      <td>0</td>\n",
              "      <td>0</td>\n",
              "      <td>3.0</td>\n",
              "    </tr>\n",
              "    <tr>\n",
              "      <th>284</th>\n",
              "      <td>R-21</td>\n",
              "      <td>7</td>\n",
              "      <td>AI&amp;DS</td>\n",
              "      <td>OBM354</td>\n",
              "      <td>Medical Informatics</td>\n",
              "      <td>OEC</td>\n",
              "      <td>3</td>\n",
              "      <td>0</td>\n",
              "      <td>0</td>\n",
              "      <td>3.0</td>\n",
              "    </tr>\n",
              "    <tr>\n",
              "      <th>285</th>\n",
              "      <td>R-21</td>\n",
              "      <td>7</td>\n",
              "      <td>AI&amp;DS</td>\n",
              "      <td>OCE354</td>\n",
              "      <td>Basics of Water Management</td>\n",
              "      <td>OEC</td>\n",
              "      <td>3</td>\n",
              "      <td>0</td>\n",
              "      <td>0</td>\n",
              "      <td>3.0</td>\n",
              "    </tr>\n",
              "  </tbody>\n",
              "</table>\n",
              "<p>215 rows × 10 columns</p>\n",
              "</div>\n",
              "      <button class=\"colab-df-convert\" onclick=\"convertToInteractive('df-75e2f2fb-dc12-4946-9aa7-a19e39474514')\"\n",
              "              title=\"Convert this dataframe to an interactive table.\"\n",
              "              style=\"display:none;\">\n",
              "        \n",
              "  <svg xmlns=\"http://www.w3.org/2000/svg\" height=\"24px\"viewBox=\"0 0 24 24\"\n",
              "       width=\"24px\">\n",
              "    <path d=\"M0 0h24v24H0V0z\" fill=\"none\"/>\n",
              "    <path d=\"M18.56 5.44l.94 2.06.94-2.06 2.06-.94-2.06-.94-.94-2.06-.94 2.06-2.06.94zm-11 1L8.5 8.5l.94-2.06 2.06-.94-2.06-.94L8.5 2.5l-.94 2.06-2.06.94zm10 10l.94 2.06.94-2.06 2.06-.94-2.06-.94-.94-2.06-.94 2.06-2.06.94z\"/><path d=\"M17.41 7.96l-1.37-1.37c-.4-.4-.92-.59-1.43-.59-.52 0-1.04.2-1.43.59L10.3 9.45l-7.72 7.72c-.78.78-.78 2.05 0 2.83L4 21.41c.39.39.9.59 1.41.59.51 0 1.02-.2 1.41-.59l7.78-7.78 2.81-2.81c.8-.78.8-2.07 0-2.86zM5.41 20L4 18.59l7.72-7.72 1.47 1.35L5.41 20z\"/>\n",
              "  </svg>\n",
              "      </button>\n",
              "      \n",
              "  <style>\n",
              "    .colab-df-container {\n",
              "      display:flex;\n",
              "      flex-wrap:wrap;\n",
              "      gap: 12px;\n",
              "    }\n",
              "\n",
              "    .colab-df-convert {\n",
              "      background-color: #E8F0FE;\n",
              "      border: none;\n",
              "      border-radius: 50%;\n",
              "      cursor: pointer;\n",
              "      display: none;\n",
              "      fill: #1967D2;\n",
              "      height: 32px;\n",
              "      padding: 0 0 0 0;\n",
              "      width: 32px;\n",
              "    }\n",
              "\n",
              "    .colab-df-convert:hover {\n",
              "      background-color: #E2EBFA;\n",
              "      box-shadow: 0px 1px 2px rgba(60, 64, 67, 0.3), 0px 1px 3px 1px rgba(60, 64, 67, 0.15);\n",
              "      fill: #174EA6;\n",
              "    }\n",
              "\n",
              "    [theme=dark] .colab-df-convert {\n",
              "      background-color: #3B4455;\n",
              "      fill: #D2E3FC;\n",
              "    }\n",
              "\n",
              "    [theme=dark] .colab-df-convert:hover {\n",
              "      background-color: #434B5C;\n",
              "      box-shadow: 0px 1px 3px 1px rgba(0, 0, 0, 0.15);\n",
              "      filter: drop-shadow(0px 1px 2px rgba(0, 0, 0, 0.3));\n",
              "      fill: #FFFFFF;\n",
              "    }\n",
              "  </style>\n",
              "\n",
              "      <script>\n",
              "        const buttonEl =\n",
              "          document.querySelector('#df-75e2f2fb-dc12-4946-9aa7-a19e39474514 button.colab-df-convert');\n",
              "        buttonEl.style.display =\n",
              "          google.colab.kernel.accessAllowed ? 'block' : 'none';\n",
              "\n",
              "        async function convertToInteractive(key) {\n",
              "          const element = document.querySelector('#df-75e2f2fb-dc12-4946-9aa7-a19e39474514');\n",
              "          const dataTable =\n",
              "            await google.colab.kernel.invokeFunction('convertToInteractive',\n",
              "                                                     [key], {});\n",
              "          if (!dataTable) return;\n",
              "\n",
              "          const docLinkHtml = 'Like what you see? Visit the ' +\n",
              "            '<a target=\"_blank\" href=https://colab.research.google.com/notebooks/data_table.ipynb>data table notebook</a>'\n",
              "            + ' to learn more about interactive tables.';\n",
              "          element.innerHTML = '';\n",
              "          dataTable['output_type'] = 'display_data';\n",
              "          await google.colab.output.renderOutput(dataTable, element);\n",
              "          const docLink = document.createElement('div');\n",
              "          docLink.innerHTML = docLinkHtml;\n",
              "          element.appendChild(docLink);\n",
              "        }\n",
              "      </script>\n",
              "    </div>\n",
              "  </div>\n",
              "  "
            ]
          },
          "metadata": {},
          "execution_count": 13
        }
      ]
    },
    {
      "cell_type": "code",
      "source": [
        "# Numeric features\n",
        "\n",
        "# These are features with numbers that you can perform mathematical operations on. They are further divided into discrete (countable integers with clear boundaries) and continuous (can take any value, even decimals, within a range).\n",
        "\n",
        "# We first display summary statistics for each numeric feature using df.describe(). This shows us the actual statistics."
      ],
      "metadata": {
        "id": "OzdhnxezO7DD"
      },
      "execution_count": null,
      "outputs": []
    },
    {
      "cell_type": "code",
      "source": [
        "ADdf.describe()"
      ],
      "metadata": {
        "colab": {
          "base_uri": "https://localhost:8080/",
          "height": 300
        },
        "id": "UHwHTBMyZsHa",
        "outputId": "8bab4955-919d-43ff-a142-8727367f328b"
      },
      "execution_count": null,
      "outputs": [
        {
          "output_type": "execute_result",
          "data": {
            "text/plain": [
              "             YEAR  REGULATIONS    SEMESTER    LECTURER    TUTORIAL  \\\n",
              "count  248.000000   248.000000  248.000000  248.000000  248.000000   \n",
              "mean     2.883065  2019.758065    5.221774    2.435484    0.016129   \n",
              "std      1.021250     1.854510    1.966112    1.012008    0.126227   \n",
              "min      1.000000  2017.000000    1.000000    0.000000    0.000000   \n",
              "25%      2.000000  2017.000000    4.000000    2.000000    0.000000   \n",
              "50%      3.000000  2021.000000    6.000000    3.000000    0.000000   \n",
              "75%      4.000000  2021.000000    7.000000    3.000000    0.000000   \n",
              "max      4.000000  2021.000000    8.000000    4.000000    1.000000   \n",
              "\n",
              "        PRACTICAL  TOTAL\\nCONTACT\\nPERIODS  \n",
              "count  248.000000               248.000000  \n",
              "mean     1.080645                 3.528226  \n",
              "std      2.156233                 1.663860  \n",
              "min      0.000000                 0.000000  \n",
              "25%      0.000000                 3.000000  \n",
              "50%      0.000000                 3.000000  \n",
              "75%      2.000000                 4.000000  \n",
              "max     20.000000                20.000000  "
            ],
            "text/html": [
              "\n",
              "  <div id=\"df-230f0418-10bd-48a1-9f41-ad2722acf4f4\">\n",
              "    <div class=\"colab-df-container\">\n",
              "      <div>\n",
              "<style scoped>\n",
              "    .dataframe tbody tr th:only-of-type {\n",
              "        vertical-align: middle;\n",
              "    }\n",
              "\n",
              "    .dataframe tbody tr th {\n",
              "        vertical-align: top;\n",
              "    }\n",
              "\n",
              "    .dataframe thead th {\n",
              "        text-align: right;\n",
              "    }\n",
              "</style>\n",
              "<table border=\"1\" class=\"dataframe\">\n",
              "  <thead>\n",
              "    <tr style=\"text-align: right;\">\n",
              "      <th></th>\n",
              "      <th>YEAR</th>\n",
              "      <th>REGULATIONS</th>\n",
              "      <th>SEMESTER</th>\n",
              "      <th>LECTURER</th>\n",
              "      <th>TUTORIAL</th>\n",
              "      <th>PRACTICAL</th>\n",
              "      <th>TOTAL\\nCONTACT\\nPERIODS</th>\n",
              "    </tr>\n",
              "  </thead>\n",
              "  <tbody>\n",
              "    <tr>\n",
              "      <th>count</th>\n",
              "      <td>248.000000</td>\n",
              "      <td>248.000000</td>\n",
              "      <td>248.000000</td>\n",
              "      <td>248.000000</td>\n",
              "      <td>248.000000</td>\n",
              "      <td>248.000000</td>\n",
              "      <td>248.000000</td>\n",
              "    </tr>\n",
              "    <tr>\n",
              "      <th>mean</th>\n",
              "      <td>2.883065</td>\n",
              "      <td>2019.758065</td>\n",
              "      <td>5.221774</td>\n",
              "      <td>2.435484</td>\n",
              "      <td>0.016129</td>\n",
              "      <td>1.080645</td>\n",
              "      <td>3.528226</td>\n",
              "    </tr>\n",
              "    <tr>\n",
              "      <th>std</th>\n",
              "      <td>1.021250</td>\n",
              "      <td>1.854510</td>\n",
              "      <td>1.966112</td>\n",
              "      <td>1.012008</td>\n",
              "      <td>0.126227</td>\n",
              "      <td>2.156233</td>\n",
              "      <td>1.663860</td>\n",
              "    </tr>\n",
              "    <tr>\n",
              "      <th>min</th>\n",
              "      <td>1.000000</td>\n",
              "      <td>2017.000000</td>\n",
              "      <td>1.000000</td>\n",
              "      <td>0.000000</td>\n",
              "      <td>0.000000</td>\n",
              "      <td>0.000000</td>\n",
              "      <td>0.000000</td>\n",
              "    </tr>\n",
              "    <tr>\n",
              "      <th>25%</th>\n",
              "      <td>2.000000</td>\n",
              "      <td>2017.000000</td>\n",
              "      <td>4.000000</td>\n",
              "      <td>2.000000</td>\n",
              "      <td>0.000000</td>\n",
              "      <td>0.000000</td>\n",
              "      <td>3.000000</td>\n",
              "    </tr>\n",
              "    <tr>\n",
              "      <th>50%</th>\n",
              "      <td>3.000000</td>\n",
              "      <td>2021.000000</td>\n",
              "      <td>6.000000</td>\n",
              "      <td>3.000000</td>\n",
              "      <td>0.000000</td>\n",
              "      <td>0.000000</td>\n",
              "      <td>3.000000</td>\n",
              "    </tr>\n",
              "    <tr>\n",
              "      <th>75%</th>\n",
              "      <td>4.000000</td>\n",
              "      <td>2021.000000</td>\n",
              "      <td>7.000000</td>\n",
              "      <td>3.000000</td>\n",
              "      <td>0.000000</td>\n",
              "      <td>2.000000</td>\n",
              "      <td>4.000000</td>\n",
              "    </tr>\n",
              "    <tr>\n",
              "      <th>max</th>\n",
              "      <td>4.000000</td>\n",
              "      <td>2021.000000</td>\n",
              "      <td>8.000000</td>\n",
              "      <td>4.000000</td>\n",
              "      <td>1.000000</td>\n",
              "      <td>20.000000</td>\n",
              "      <td>20.000000</td>\n",
              "    </tr>\n",
              "  </tbody>\n",
              "</table>\n",
              "</div>\n",
              "      <button class=\"colab-df-convert\" onclick=\"convertToInteractive('df-230f0418-10bd-48a1-9f41-ad2722acf4f4')\"\n",
              "              title=\"Convert this dataframe to an interactive table.\"\n",
              "              style=\"display:none;\">\n",
              "        \n",
              "  <svg xmlns=\"http://www.w3.org/2000/svg\" height=\"24px\"viewBox=\"0 0 24 24\"\n",
              "       width=\"24px\">\n",
              "    <path d=\"M0 0h24v24H0V0z\" fill=\"none\"/>\n",
              "    <path d=\"M18.56 5.44l.94 2.06.94-2.06 2.06-.94-2.06-.94-.94-2.06-.94 2.06-2.06.94zm-11 1L8.5 8.5l.94-2.06 2.06-.94-2.06-.94L8.5 2.5l-.94 2.06-2.06.94zm10 10l.94 2.06.94-2.06 2.06-.94-2.06-.94-.94-2.06-.94 2.06-2.06.94z\"/><path d=\"M17.41 7.96l-1.37-1.37c-.4-.4-.92-.59-1.43-.59-.52 0-1.04.2-1.43.59L10.3 9.45l-7.72 7.72c-.78.78-.78 2.05 0 2.83L4 21.41c.39.39.9.59 1.41.59.51 0 1.02-.2 1.41-.59l7.78-7.78 2.81-2.81c.8-.78.8-2.07 0-2.86zM5.41 20L4 18.59l7.72-7.72 1.47 1.35L5.41 20z\"/>\n",
              "  </svg>\n",
              "      </button>\n",
              "      \n",
              "  <style>\n",
              "    .colab-df-container {\n",
              "      display:flex;\n",
              "      flex-wrap:wrap;\n",
              "      gap: 12px;\n",
              "    }\n",
              "\n",
              "    .colab-df-convert {\n",
              "      background-color: #E8F0FE;\n",
              "      border: none;\n",
              "      border-radius: 50%;\n",
              "      cursor: pointer;\n",
              "      display: none;\n",
              "      fill: #1967D2;\n",
              "      height: 32px;\n",
              "      padding: 0 0 0 0;\n",
              "      width: 32px;\n",
              "    }\n",
              "\n",
              "    .colab-df-convert:hover {\n",
              "      background-color: #E2EBFA;\n",
              "      box-shadow: 0px 1px 2px rgba(60, 64, 67, 0.3), 0px 1px 3px 1px rgba(60, 64, 67, 0.15);\n",
              "      fill: #174EA6;\n",
              "    }\n",
              "\n",
              "    [theme=dark] .colab-df-convert {\n",
              "      background-color: #3B4455;\n",
              "      fill: #D2E3FC;\n",
              "    }\n",
              "\n",
              "    [theme=dark] .colab-df-convert:hover {\n",
              "      background-color: #434B5C;\n",
              "      box-shadow: 0px 1px 3px 1px rgba(0, 0, 0, 0.15);\n",
              "      filter: drop-shadow(0px 1px 2px rgba(0, 0, 0, 0.3));\n",
              "      fill: #FFFFFF;\n",
              "    }\n",
              "  </style>\n",
              "\n",
              "      <script>\n",
              "        const buttonEl =\n",
              "          document.querySelector('#df-230f0418-10bd-48a1-9f41-ad2722acf4f4 button.colab-df-convert');\n",
              "        buttonEl.style.display =\n",
              "          google.colab.kernel.accessAllowed ? 'block' : 'none';\n",
              "\n",
              "        async function convertToInteractive(key) {\n",
              "          const element = document.querySelector('#df-230f0418-10bd-48a1-9f41-ad2722acf4f4');\n",
              "          const dataTable =\n",
              "            await google.colab.kernel.invokeFunction('convertToInteractive',\n",
              "                                                     [key], {});\n",
              "          if (!dataTable) return;\n",
              "\n",
              "          const docLinkHtml = 'Like what you see? Visit the ' +\n",
              "            '<a target=\"_blank\" href=https://colab.research.google.com/notebooks/data_table.ipynb>data table notebook</a>'\n",
              "            + ' to learn more about interactive tables.';\n",
              "          element.innerHTML = '';\n",
              "          dataTable['output_type'] = 'display_data';\n",
              "          await google.colab.output.renderOutput(dataTable, element);\n",
              "          const docLink = document.createElement('div');\n",
              "          docLink.innerHTML = docLinkHtml;\n",
              "          element.appendChild(docLink);\n",
              "        }\n",
              "      </script>\n",
              "    </div>\n",
              "  </div>\n",
              "  "
            ]
          },
          "metadata": {},
          "execution_count": 20
        }
      ]
    },
    {
      "cell_type": "code",
      "source": [
        "# A histogram groups values into ranges (or bins), and the height of a bar shows how many values fall in that range\n",
        "import seaborn as sns\n",
        "sns.histplot(x='CREDITS', data=ADdf)"
      ],
      "metadata": {
        "colab": {
          "base_uri": "https://localhost:8080/",
          "height": 297
        },
        "id": "nsoqagxbZ8cb",
        "outputId": "ce4dd2d5-6888-41ad-fe43-796fad87234e"
      },
      "execution_count": null,
      "outputs": [
        {
          "output_type": "execute_result",
          "data": {
            "text/plain": [
              "<matplotlib.axes._subplots.AxesSubplot at 0x7f55274c8ed0>"
            ]
          },
          "metadata": {},
          "execution_count": 22
        },
        {
          "output_type": "display_data",
          "data": {
            "text/plain": [
              "<Figure size 432x288 with 1 Axes>"
            ],
            "image/png": "[encoded data removed]"
          },
          "metadata": {
            "needs_background": "light"
          }
        }
      ]
    },
    {
      "cell_type": "code",
      "source": [
        "# to create individual histograms for all numeric variables.\n",
        "import matplotlib.pyplot as plt\n",
        "\n",
        "cols = 3\n",
        "rows = 3\n",
        "num_cols = ADdf.select_dtypes(exclude='object').columns\n",
        "fig = plt.figure( figsize=(cols*5, rows*5))\n",
        "for i, col in enumerate(num_cols):\n",
        "    \n",
        "    ax=fig.add_subplot(rows,cols,i+1)\n",
        "    \n",
        "    sns.histplot(x = ADdf[col], ax = ax)\n",
        "    \n",
        "fig.tight_layout()  \n",
        "plt.show()"
      ],
      "metadata": {
        "colab": {
          "base_uri": "https://localhost:8080/",
          "height": 1000
        },
        "id": "dqMdpQ8NajuC",
        "outputId": "0226714b-656c-4426-873e-7dc53dbe63af"
      },
      "execution_count": null,
      "outputs": [
        {
          "output_type": "display_data",
          "data": {
            "text/plain": [
              "<Figure size 1080x1080 with 7 Axes>"
            ],
            "image/png": "[encoded data removed]"
          },
          "metadata": {
            "needs_background": "light"
          }
        }
      ]
    },
    {
      "cell_type": "code",
      "source": [
        "# kernel density estimate\n",
        "# The ‘kernel density estimate’ plot creates a smooth version of a histogram by normalizing all points to appear under one curve.\n",
        "\n",
        "sns.kdeplot(x='SMEESTER', data=ADdf, hue='CATEGORY')"
      ],
      "metadata": {
        "colab": {
          "base_uri": "https://localhost:8080/",
          "height": 380
        },
        "id": "JooSi8FObIAh",
        "outputId": "66e3297b-1e6e-446c-a143-ddff0ce719b1"
      },
      "execution_count": null,
      "outputs": [
        {
          "output_type": "stream",
          "name": "stderr",
          "text": [
            "/usr/local/lib/python3.7/dist-packages/seaborn/distributions.py:316: UserWarning: Dataset has 0 variance; skipping density estimate. Pass `warn_singular=False` to disable this warning.\n",
            "  warnings.warn(msg, UserWarning)\n"
          ]
        },
        {
          "output_type": "execute_result",
          "data": {
            "text/plain": [
              "<matplotlib.axes._subplots.AxesSubplot at 0x7f5526b6ead0>"
            ]
          },
          "metadata": {},
          "execution_count": 24
        },
        {
          "output_type": "display_data",
          "data": {
            "text/plain": [
              "<Figure size 432x288 with 1 Axes>"
            ],
            "image/png": "[encoded data removed]"
          },
          "metadata": {
            "needs_background": "light"
          }
        }
      ]
    },
    {
      "cell_type": "code",
      "source": [
        "# KDE with Histogram plot — sns.histplot(kde=True)\n",
        "\n",
        "# We can display a histogram with a KDE curve as below. See this post for an understanding of kde and histogram\n",
        "\n",
        "\n",
        "sns.histplot(x='SEMESTER', data=ADdf, kde=True)\n"
      ],
      "metadata": {
        "colab": {
          "base_uri": "https://localhost:8080/",
          "height": 297
        },
        "id": "TBishNvZbyH7",
        "outputId": "9635d531-3c31-4b71-a190-ef5cd737ebdd"
      },
      "execution_count": null,
      "outputs": [
        {
          "output_type": "execute_result",
          "data": {
            "text/plain": [
              "<matplotlib.axes._subplots.AxesSubplot at 0x7f5523a69450>"
            ]
          },
          "metadata": {},
          "execution_count": 25
        },
        {
          "output_type": "display_data",
          "data": {
            "text/plain": [
              "<Figure size 432x288 with 1 Axes>"
            ],
            "image/png": "[encoded data removed]"
          },
          "metadata": {
            "needs_background": "light"
          }
        }
      ]
    },
    {
      "cell_type": "code",
      "source": [
        "# Box plots — sns.boxplot()\n",
        "\n",
        "# A boxplot shows the distribution, center and skewness of a numeric feature. \n",
        "# It divides the data into sections that contain 25% of the data approximately.\n",
        "\n",
        "sns.boxplot(x=ADdf['LECTURER'])"
      ],
      "metadata": {
        "colab": {
          "base_uri": "https://localhost:8080/",
          "height": 297
        },
        "id": "FtNj8QuZcLuK",
        "outputId": "56fada8a-6ebd-42eb-96fb-205ab54042e4"
      },
      "execution_count": null,
      "outputs": [
        {
          "output_type": "execute_result",
          "data": {
            "text/plain": [
              "<matplotlib.axes._subplots.AxesSubplot at 0x7f55237ef910>"
            ]
          },
          "metadata": {},
          "execution_count": 27
        },
        {
          "output_type": "display_data",
          "data": {
            "text/plain": [
              "<Figure size 432x288 with 1 Axes>"
            ],
            "image/png": "[encoded data removed]"
          },
          "metadata": {
            "needs_background": "light"
          }
        }
      ]
    },
    {
      "cell_type": "code",
      "source": [
        "# to compare the distribution of two columns that are related\n",
        "\n",
        "sns.boxplot(data=ADdf.loc[:, ['CREDITS', 'Semester']])"
      ],
      "metadata": {
        "colab": {
          "base_uri": "https://localhost:8080/",
          "height": 282
        },
        "id": "yueEwOvMctqE",
        "outputId": "bc70cee0-5746-4deb-8baa-e345323448aa"
      },
      "execution_count": null,
      "outputs": [
        {
          "output_type": "execute_result",
          "data": {
            "text/plain": [
              "<matplotlib.axes._subplots.AxesSubplot at 0x7f2168e9b510>"
            ]
          },
          "metadata": {},
          "execution_count": 34
        },
        {
          "output_type": "display_data",
          "data": {
            "text/plain": [
              "<Figure size 432x288 with 1 Axes>"
            ],
            "image/png": "[encoded data removed]"
          },
          "metadata": {
            "needs_background": "light"
          }
        }
      ]
    },
    {
      "cell_type": "code",
      "source": [
        "cols = 3\n",
        "rows = 3\n",
        "num_cols = ADdf.select_dtypes(exclude='object').columns\n",
        "fig = plt.figure(figsize= (15,9))\n",
        "for i, col in enumerate(num_cols):\n",
        "    \n",
        "    ax=fig.add_subplot( rows, cols, i+1)\n",
        "    \n",
        "    sns.boxplot(x=ADdf[col], ax=ax)\n",
        "    \n",
        "fig.tight_layout()  \n",
        "plt.show()"
      ],
      "metadata": {
        "colab": {
          "base_uri": "https://localhost:8080/",
          "height": 466
        },
        "id": "pFk1GoiKdEzp",
        "outputId": "8dd7dc80-48db-4b25-d221-928c1ef0c0cf"
      },
      "execution_count": null,
      "outputs": [
        {
          "output_type": "display_data",
          "data": {
            "text/plain": [
              "<Figure size 1080x648 with 5 Axes>"
            ],
            "image/png": "[encoded data removed]"
          },
          "metadata": {
            "needs_background": "light"
          }
        }
      ]
    },
    {
      "cell_type": "code",
      "source": [
        "# Violin plot — sns.violinplot()\n",
        "\n",
        "# The violin plot features a combination of a box plot and a kernel density plot. \n",
        "# This means that in addition to showing the quartiles, it also lays out the underlying distribution such as presence and location of different peaks\n",
        "\n",
        "\n",
        "sns.violinplot(x=ADdf[\"Credits\"])"
      ],
      "metadata": {
        "colab": {
          "base_uri": "https://localhost:8080/",
          "height": 296
        },
        "id": "Pd2ccSdfdbIJ",
        "outputId": "6966abce-fc2e-4566-af92-080b5182b4af"
      },
      "execution_count": null,
      "outputs": [
        {
          "output_type": "execute_result",
          "data": {
            "text/plain": [
              "<matplotlib.axes._subplots.AxesSubplot at 0x7f2168bc7490>"
            ]
          },
          "metadata": {},
          "execution_count": 36
        },
        {
          "output_type": "display_data",
          "data": {
            "text/plain": [
              "<Figure size 432x288 with 1 Axes>"
            ],
            "image/png": "[encoded data removed]"
          },
          "metadata": {
            "needs_background": "light"
          }
        }
      ]
    },
    {
      "cell_type": "code",
      "source": [
        "# Strip plot — sns.stripplot()\n",
        "\n",
        "# A strip plot implements a scatter plot to show the spread of individual observations for a feature\n",
        "\n",
        "sns.stripplot(x=ADdf[\"Credits\"]);"
      ],
      "metadata": {
        "colab": {
          "base_uri": "https://localhost:8080/",
          "height": 279
        },
        "id": "Vl_shr8AdrCJ",
        "outputId": "c6e32956-2785-4568-da22-55e2587fa27a"
      },
      "execution_count": null,
      "outputs": [
        {
          "output_type": "display_data",
          "data": {
            "text/plain": [
              "<Figure size 432x288 with 1 Axes>"
            ],
            "image/png": "[encoded data removed]"
          },
          "metadata": {
            "needs_background": "light"
          }
        }
      ]
    },
    {
      "cell_type": "code",
      "source": [
        "# Categorical features\n",
        "# Categorical data is the statistical data type consisting of categorical variables\n",
        "\n",
        "ADdf.describe(include='object')"
      ],
      "metadata": {
        "colab": {
          "base_uri": "https://localhost:8080/",
          "height": 175
        },
        "id": "qCVsblCFd8pg",
        "outputId": "0effd17e-bf06-4760-e4c9-4e69414e49f5"
      },
      "execution_count": null,
      "outputs": [
        {
          "output_type": "execute_result",
          "data": {
            "text/plain": [
              "       Regulation Department CourseCode                  CourseName  \\\n",
              "count         215        215        215                         215   \n",
              "unique          1          1        198                         198   \n",
              "top          R-21      AI&DS     CCS335  Cloud Services\\nManagement   \n",
              "freq          215        215          3                           3   \n",
              "\n",
              "       TypeOfCourse  \n",
              "count           215  \n",
              "unique            8  \n",
              "top             OEC  \n",
              "freq            100  "
            ],
            "text/html": [
              "\n",
              "  <div id=\"df-e096b0b8-909b-4eda-9af0-505fa3b28215\">\n",
              "    <div class=\"colab-df-container\">\n",
              "      <div>\n",
              "<style scoped>\n",
              "    .dataframe tbody tr th:only-of-type {\n",
              "        vertical-align: middle;\n",
              "    }\n",
              "\n",
              "    .dataframe tbody tr th {\n",
              "        vertical-align: top;\n",
              "    }\n",
              "\n",
              "    .dataframe thead th {\n",
              "        text-align: right;\n",
              "    }\n",
              "</style>\n",
              "<table border=\"1\" class=\"dataframe\">\n",
              "  <thead>\n",
              "    <tr style=\"text-align: right;\">\n",
              "      <th></th>\n",
              "      <th>Regulation</th>\n",
              "      <th>Department</th>\n",
              "      <th>CourseCode</th>\n",
              "      <th>CourseName</th>\n",
              "      <th>TypeOfCourse</th>\n",
              "    </tr>\n",
              "  </thead>\n",
              "  <tbody>\n",
              "    <tr>\n",
              "      <th>count</th>\n",
              "      <td>215</td>\n",
              "      <td>215</td>\n",
              "      <td>215</td>\n",
              "      <td>215</td>\n",
              "      <td>215</td>\n",
              "    </tr>\n",
              "    <tr>\n",
              "      <th>unique</th>\n",
              "      <td>1</td>\n",
              "      <td>1</td>\n",
              "      <td>198</td>\n",
              "      <td>198</td>\n",
              "      <td>8</td>\n",
              "    </tr>\n",
              "    <tr>\n",
              "      <th>top</th>\n",
              "      <td>R-21</td>\n",
              "      <td>AI&amp;DS</td>\n",
              "      <td>CCS335</td>\n",
              "      <td>Cloud Services\\nManagement</td>\n",
              "      <td>OEC</td>\n",
              "    </tr>\n",
              "    <tr>\n",
              "      <th>freq</th>\n",
              "      <td>215</td>\n",
              "      <td>215</td>\n",
              "      <td>3</td>\n",
              "      <td>3</td>\n",
              "      <td>100</td>\n",
              "    </tr>\n",
              "  </tbody>\n",
              "</table>\n",
              "</div>\n",
              "      <button class=\"colab-df-convert\" onclick=\"convertToInteractive('df-e096b0b8-909b-4eda-9af0-505fa3b28215')\"\n",
              "              title=\"Convert this dataframe to an interactive table.\"\n",
              "              style=\"display:none;\">\n",
              "        \n",
              "  <svg xmlns=\"http://www.w3.org/2000/svg\" height=\"24px\"viewBox=\"0 0 24 24\"\n",
              "       width=\"24px\">\n",
              "    <path d=\"M0 0h24v24H0V0z\" fill=\"none\"/>\n",
              "    <path d=\"M18.56 5.44l.94 2.06.94-2.06 2.06-.94-2.06-.94-.94-2.06-.94 2.06-2.06.94zm-11 1L8.5 8.5l.94-2.06 2.06-.94-2.06-.94L8.5 2.5l-.94 2.06-2.06.94zm10 10l.94 2.06.94-2.06 2.06-.94-2.06-.94-.94-2.06-.94 2.06-2.06.94z\"/><path d=\"M17.41 7.96l-1.37-1.37c-.4-.4-.92-.59-1.43-.59-.52 0-1.04.2-1.43.59L10.3 9.45l-7.72 7.72c-.78.78-.78 2.05 0 2.83L4 21.41c.39.39.9.59 1.41.59.51 0 1.02-.2 1.41-.59l7.78-7.78 2.81-2.81c.8-.78.8-2.07 0-2.86zM5.41 20L4 18.59l7.72-7.72 1.47 1.35L5.41 20z\"/>\n",
              "  </svg>\n",
              "      </button>\n",
              "      \n",
              "  <style>\n",
              "    .colab-df-container {\n",
              "      display:flex;\n",
              "      flex-wrap:wrap;\n",
              "      gap: 12px;\n",
              "    }\n",
              "\n",
              "    .colab-df-convert {\n",
              "      background-color: #E8F0FE;\n",
              "      border: none;\n",
              "      border-radius: 50%;\n",
              "      cursor: pointer;\n",
              "      display: none;\n",
              "      fill: #1967D2;\n",
              "      height: 32px;\n",
              "      padding: 0 0 0 0;\n",
              "      width: 32px;\n",
              "    }\n",
              "\n",
              "    .colab-df-convert:hover {\n",
              "      background-color: #E2EBFA;\n",
              "      box-shadow: 0px 1px 2px rgba(60, 64, 67, 0.3), 0px 1px 3px 1px rgba(60, 64, 67, 0.15);\n",
              "      fill: #174EA6;\n",
              "    }\n",
              "\n",
              "    [theme=dark] .colab-df-convert {\n",
              "      background-color: #3B4455;\n",
              "      fill: #D2E3FC;\n",
              "    }\n",
              "\n",
              "    [theme=dark] .colab-df-convert:hover {\n",
              "      background-color: #434B5C;\n",
              "      box-shadow: 0px 1px 3px 1px rgba(0, 0, 0, 0.15);\n",
              "      filter: drop-shadow(0px 1px 2px rgba(0, 0, 0, 0.3));\n",
              "      fill: #FFFFFF;\n",
              "    }\n",
              "  </style>\n",
              "\n",
              "      <script>\n",
              "        const buttonEl =\n",
              "          document.querySelector('#df-e096b0b8-909b-4eda-9af0-505fa3b28215 button.colab-df-convert');\n",
              "        buttonEl.style.display =\n",
              "          google.colab.kernel.accessAllowed ? 'block' : 'none';\n",
              "\n",
              "        async function convertToInteractive(key) {\n",
              "          const element = document.querySelector('#df-e096b0b8-909b-4eda-9af0-505fa3b28215');\n",
              "          const dataTable =\n",
              "            await google.colab.kernel.invokeFunction('convertToInteractive',\n",
              "                                                     [key], {});\n",
              "          if (!dataTable) return;\n",
              "\n",
              "          const docLinkHtml = 'Like what you see? Visit the ' +\n",
              "            '<a target=\"_blank\" href=https://colab.research.google.com/notebooks/data_table.ipynb>data table notebook</a>'\n",
              "            + ' to learn more about interactive tables.';\n",
              "          element.innerHTML = '';\n",
              "          dataTable['output_type'] = 'display_data';\n",
              "          await google.colab.output.renderOutput(dataTable, element);\n",
              "          const docLink = document.createElement('div');\n",
              "          docLink.innerHTML = docLinkHtml;\n",
              "          element.appendChild(docLink);\n",
              "        }\n",
              "      </script>\n",
              "    </div>\n",
              "  </div>\n",
              "  "
            ]
          },
          "metadata": {},
          "execution_count": 38
        }
      ]
    },
    {
      "cell_type": "code",
      "source": [
        "# Count plot — sns.countplot()\n",
        "\n",
        "# A count plot compares different classes of a categorical feature and how often they occur\n",
        "\n",
        "cols = 4\n",
        "rows = 1\n",
        "fig = plt.figure(figsize= (16,6))\n",
        "all_cats = ADdf.select_dtypes(include='object')\n",
        "cat_cols = all_cats.columns[all_cats.nunique() < 10]\n",
        "for i, col in enumerate(cat_cols):\n",
        "    \n",
        "    ax=fig.add_subplot(rows, cols, i+1)\n",
        "    \n",
        "    sns.countplot(x=ADdf[col], ax=ax)\n",
        "    \n",
        "    plt.xticks(rotation=45, ha='right')\n",
        "    \n",
        "fig.tight_layout()  \n",
        "plt.show()"
      ],
      "metadata": {
        "colab": {
          "base_uri": "https://localhost:8080/",
          "height": 441
        },
        "id": "CR1gOVCZe2PB",
        "outputId": "8845828f-f0b5-49a7-e030-624dd7f85cc1"
      },
      "execution_count": null,
      "outputs": [
        {
          "output_type": "display_data",
          "data": {
            "text/plain": [
              "<Figure size 1152x432 with 3 Axes>"
            ],
            "image/png": "[encoded data removed]"
          },
          "metadata": {
            "needs_background": "light"
          }
        }
      ]
    },
    {
      "cell_type": "code",
      "source": [
        "import matplotlib.pyplot as plt    \n",
        "plt.figure(figsize=(30,10))\n",
        "ax=sns.countplot(x=ADdf.TypeOfCourse)"
      ],
      "metadata": {
        "colab": {
          "base_uri": "https://localhost:8080/",
          "height": 499
        },
        "id": "ubZ7Q8zQg-Io",
        "outputId": "30f7b465-569e-41d4-b673-161ed124b5f1"
      },
      "execution_count": null,
      "outputs": [
        {
          "output_type": "display_data",
          "data": {
            "text/plain": [
              "<Figure size 2160x720 with 1 Axes>"
            ],
            "image/png": "[encoded data removed]"
          },
          "metadata": {
            "needs_background": "light"
          }
        }
      ]
    },
    {
      "cell_type": "code",
      "source": [
        "TypeOfCourse_freq = ADdf['TypeOfCourse'].value_counts(sort = False, normalize = True)\n",
        "print(TypeOfCourse_freq)\n",
        "plt = TypeOfCourse_freq.plot.bar()\n",
        "plt.set_title(\"Relative Frequency distribution graph - TypeOfCourse_freq\")\n",
        "plt.set_xlabel(\"TypeOfCourse_freq\")\n",
        "plt.set_ylabel(\"Relative frequency (%)\")"
      ],
      "metadata": {
        "colab": {
          "base_uri": "https://localhost:8080/",
          "height": 489
        },
        "id": "n8cEltQXewjw",
        "outputId": "69382e25-46c3-4664-9d7e-bb405d63e144"
      },
      "execution_count": null,
      "outputs": [
        {
          "output_type": "stream",
          "name": "stdout",
          "text": [
            "HSMC    0.051163\n",
            "BSC     0.041860\n",
            "ESC     0.023256\n",
            "EEC     0.018605\n",
            "PCC     0.097674\n",
            "PEC     0.260465\n",
            "MC      0.041860\n",
            "OEC     0.465116\n",
            "Name: TypeOfCourse, dtype: float64\n"
          ]
        },
        {
          "output_type": "execute_result",
          "data": {
            "text/plain": [
              "Text(0, 0.5, 'Relative frequency (%)')"
            ]
          },
          "metadata": {},
          "execution_count": 40
        },
        {
          "output_type": "display_data",
          "data": {
            "text/plain": [
              "<Figure size 432x288 with 1 Axes>"
            ],
            "image/png": "[encoded data removed]"
          },
          "metadata": {
            "needs_background": "light"
          }
        }
      ]
    },
    {
      "cell_type": "code",
      "source": [
        "# Distribution and variables\n",
        "\n",
        "# 1. Frequency Tables\n",
        "# 2. Normal distibutions\n",
        "# 3. Binormal distibutions\n",
        "# 4. Bernoli distibutions\n",
        "\n",
        "# Frequency Tables\n",
        "# One way to display the distribution of a variable is in a frequency table\n",
        "\n",
        "\n",
        "pdf = ADdf['TypeOfCourse'].value_counts()\n",
        "pdf"
      ],
      "metadata": {
        "colab": {
          "base_uri": "https://localhost:8080/"
        },
        "id": "p29Px6P3hUlI",
        "outputId": "b5750e3f-9fac-47cd-b90f-0b8a0cc14ade"
      },
      "execution_count": null,
      "outputs": [
        {
          "output_type": "execute_result",
          "data": {
            "text/plain": [
              "OEC     100\n",
              "PEC      56\n",
              "PCC      21\n",
              "HSMC     11\n",
              "BSC       9\n",
              "MC        9\n",
              "ESC       5\n",
              "EEC       4\n",
              "Name: TypeOfCourse, dtype: int64"
            ]
          },
          "metadata": {},
          "execution_count": 43
        }
      ]
    },
    {
      "cell_type": "code",
      "source": [
        "#Pie chart — plt.pie()\n",
        "# A pie chart displays the percentage distribution of a categorical variable in a circular graph\n",
        "\n",
        "plt.pie(pdf, labels=pdf.index, autopct=\"%.0f%%\");\n",
        "plt.show()"
      ],
      "metadata": {
        "colab": {
          "base_uri": "https://localhost:8080/",
          "height": 248
        },
        "id": "vxzkvYlBhtwJ",
        "outputId": "19677feb-89e5-4e2f-e8d8-e8233e418baa"
      },
      "execution_count": null,
      "outputs": [
        {
          "output_type": "display_data",
          "data": {
            "text/plain": [
              "<Figure size 432x288 with 1 Axes>"
            ],
            "image/png": "[encoded data removed]"
          },
          "metadata": {}
        }
      ]
    },
    {
      "cell_type": "code",
      "source": [
        "#  Measures of Central Tendency and Variability\n",
        "#  Central Tendency\n",
        "#  The central tendency of a distribution is its middle—the point around which the scores in the distribution tend to cluster. \n",
        "# (Another term for central tendency is average.) \n",
        "\n",
        "# The mean of a distribution (symbolized M) is the sum of the scores divided by the number of scores\n",
        "\n"
      ],
      "metadata": {
        "id": "9Td9lPHXisiy"
      },
      "execution_count": null,
      "outputs": []
    },
    {
      "cell_type": "markdown",
      "source": [],
      "metadata": {
        "id": "200PB2tJTe1l"
      }
    },
    {
      "cell_type": "code",
      "source": [
        "meandf = ADdf['Credits'].mean()\n",
        "meandf"
      ],
      "metadata": {
        "colab": {
          "base_uri": "https://localhost:8080/"
        },
        "id": "Idt7LqEPZmKp",
        "outputId": "b36195cc-dbee-4c0c-b241-54849d132db9"
      },
      "execution_count": null,
      "outputs": [
        {
          "output_type": "execute_result",
          "data": {
            "text/plain": [
              "2.8046511627906976"
            ]
          },
          "metadata": {},
          "execution_count": 57
        }
      ]
    },
    {
      "cell_type": "code",
      "source": [
        "modedf = ADdf['Credits'].mode()\n",
        "modedf"
      ],
      "metadata": {
        "colab": {
          "base_uri": "https://localhost:8080/"
        },
        "id": "1fGCVNhsjoEC",
        "outputId": "2589c3f6-41dc-4b8b-d680-a00b09d828e5"
      },
      "execution_count": null,
      "outputs": [
        {
          "output_type": "execute_result",
          "data": {
            "text/plain": [
              "0    3.0\n",
              "dtype: float64"
            ]
          },
          "metadata": {},
          "execution_count": 61
        }
      ]
    },
    {
      "cell_type": "code",
      "source": [
        "SD = ADdf['Credits'].std()\n",
        "SD"
      ],
      "metadata": {
        "colab": {
          "base_uri": "https://localhost:8080/"
        },
        "id": "NyPkuOcFj9FQ",
        "outputId": "5e6429a3-57d0-4e37-f047-7b41dcd7b669"
      },
      "execution_count": null,
      "outputs": [
        {
          "output_type": "execute_result",
          "data": {
            "text/plain": [
              "0.800978807860211"
            ]
          },
          "metadata": {},
          "execution_count": 52
        }
      ]
    },
    {
      "cell_type": "code",
      "source": [
        "# Measures of Variability"
      ],
      "metadata": {
        "id": "YDdiUNCij02w"
      },
      "execution_count": null,
      "outputs": []
    },
    {
      "cell_type": "code",
      "source": [
        "# z score\n",
        "# The z score for a particular individual is the difference between that individual’s score \n",
        "# and the mean of the distribution, divided by the standard deviation of the distribution\n",
        "\n",
        "X=ADdf['Credits']\n",
        "z = (X-meandf)/SD\n",
        "z\n"
      ],
      "metadata": {
        "colab": {
          "base_uri": "https://localhost:8080/"
        },
        "id": "Wazm_2XVlbQ3",
        "outputId": "80fd2d78-fe88-4b9d-e535-df3ce192c4c5"
      },
      "execution_count": null,
      "outputs": [
        {
          "output_type": "execute_result",
          "data": {
            "text/plain": [
              "71     0.243888\n",
              "72     1.492360\n",
              "73     0.243888\n",
              "74     0.243888\n",
              "75     0.243888\n",
              "         ...   \n",
              "281    0.243888\n",
              "282    1.492360\n",
              "283    0.243888\n",
              "284    0.243888\n",
              "285    0.243888\n",
              "Name: Credits, Length: 215, dtype: float64"
            ]
          },
          "metadata": {},
          "execution_count": 59
        }
      ]
    },
    {
      "cell_type": "code",
      "source": [
        "# Normal distribution\n",
        "# Normal distribution is a continuous probability distribution that describes many natural datasets. \n",
        "# It is also known as bell curve or Gaussian distribution. We see many natural examples that are closer to a normal distribution.\n",
        "\n",
        "#What is displot ?\n",
        "#Seaborn Distplot represents the overall distribution of continuous data variables.\n",
        "\n",
        "\n",
        "sns.distplot(ADdf.Credits)"
      ],
      "metadata": {
        "colab": {
          "base_uri": "https://localhost:8080/",
          "height": 351
        },
        "id": "FFthABFKoNwp",
        "outputId": "458a000d-9738-4fdf-e0c7-f424d86f4657"
      },
      "execution_count": null,
      "outputs": [
        {
          "output_type": "stream",
          "name": "stderr",
          "text": [
            "/usr/local/lib/python3.7/dist-packages/seaborn/distributions.py:2619: FutureWarning: `distplot` is a deprecated function and will be removed in a future version. Please adapt your code to use either `displot` (a figure-level function with similar flexibility) or `histplot` (an axes-level function for histograms).\n",
            "  warnings.warn(msg, FutureWarning)\n"
          ]
        },
        {
          "output_type": "execute_result",
          "data": {
            "text/plain": [
              "<matplotlib.axes._subplots.AxesSubplot at 0x7f2168be3490>"
            ]
          },
          "metadata": {},
          "execution_count": 60
        },
        {
          "output_type": "display_data",
          "data": {
            "text/plain": [
              "<Figure size 432x288 with 1 Axes>"
            ],
            "image/png": "[encoded data removed]"
          },
          "metadata": {
            "needs_background": "light"
          }
        }
      ]
    },
    {
      "cell_type": "code",
      "source": [
        "# Plotting the probability density function (PDF)\n",
        "# A Probability distribution function (PDF) is a function associated with continuous random variable \n",
        "# which desribes the relative probability of the random variable at a given value.\n",
        "\n",
        "import math\n",
        "import numpy as np\n",
        "import pandas as pd\n",
        "from matplotlib import pyplot\n",
        "from scipy import stats\n",
        "mu, sigma = 128, 25 # From the above example\n",
        "highest_Credits = np.random.normal(mu, sigma, 1000) # Random 1000 values\n",
        "\n",
        "count, bins, _ = pyplot.hist(highest_Credits, 100, color='lightblue') # plot 100 points\n",
        "pyplot.plot(bins, 1/(sigma * np.sqrt(2 * np.pi)) *\n",
        "    np.exp( - (bins - mu)**2 / (2 * sigma**2) ),\n",
        "    linewidth = 2, color = 'r') # Plot the PDF"
      ],
      "metadata": {
        "colab": {
          "base_uri": "https://localhost:8080/",
          "height": 282
        },
        "id": "1LcpoK15prhf",
        "outputId": "b7731551-c459-4e84-9532-76bc5514b8fc"
      },
      "execution_count": null,
      "outputs": [
        {
          "output_type": "execute_result",
          "data": {
            "text/plain": [
              "[<matplotlib.lines.Line2D at 0x7f216ba30350>]"
            ]
          },
          "metadata": {},
          "execution_count": 65
        },
        {
          "output_type": "display_data",
          "data": {
            "text/plain": [
              "<Figure size 432x288 with 1 Axes>"
            ],
            "image/png": "[encoded data removed]"
          },
          "metadata": {
            "needs_background": "light"
          }
        }
      ]
    },
    {
      "cell_type": "code",
      "source": [
        "# Binomial distribution -Visualization \n",
        "# it is a discrete probability distribution of a number of successes (X) in a sequence of independent experiments (n). \n",
        "# Each experiment has two possible outcomes: success and failure. Success outcome has a probability p, and failure has probability (1−p).\n",
        "\n",
        "from numpy import random\n",
        "import matplotlib.pyplot as plt\n",
        "import seaborn as sns\n",
        "\n",
        "x = random.binomial(n=10, p=0.5, size=1000)\n",
        "\n",
        "sns.distplot(x, hist=True, kde=False)\n",
        "\n",
        "plt.show()"
      ],
      "metadata": {
        "colab": {
          "base_uri": "https://localhost:8080/",
          "height": 265
        },
        "id": "MQg2FOgysKiP",
        "outputId": "7d091cd7-caf7-4d27-df70-141e49d4ca45"
      },
      "execution_count": null,
      "outputs": [
        {
          "output_type": "display_data",
          "data": {
            "text/plain": [
              "<Figure size 432x288 with 1 Axes>"
            ],
            "image/png": "[encoded data removed]"
          },
          "metadata": {
            "needs_background": "light"
          }
        }
      ]
    },
    {
      "cell_type": "code",
      "source": [
        "# Question 1:\n",
        "# Nathan makes 60% of his free-throw attempts. \n",
        "# If he shoots 12 free throws, what is the probability that he makes exactly 10?\n",
        "\n",
        "\n",
        "from scipy.stats import binom\n",
        "\n",
        "#calculate binomial probability\n",
        "binom.pmf(k=10, n=12, p=0.6)\n",
        "\n"
      ],
      "metadata": {
        "colab": {
          "base_uri": "https://localhost:8080/"
        },
        "id": "iwzs-C3mtFw8",
        "outputId": "737e0f82-5f1e-48ea-9dfe-5b82bd37b2e8"
      },
      "execution_count": null,
      "outputs": [
        {
          "output_type": "execute_result",
          "data": {
            "text/plain": [
              "0.0639"
            ]
          },
          "metadata": {},
          "execution_count": 67
        }
      ]
    },
    {
      "cell_type": "code",
      "source": [
        "# Question 2: \n",
        "# Marty flips a fair coin 5 times. What is the probability that the coin lands on heads 2 times or fewer?\n",
        "\n",
        "from scipy.stats import binom\n",
        "\n",
        "#calculate binomial probability\n",
        "binom.cdf(k=2, n=5, p=0.5)"
      ],
      "metadata": {
        "colab": {
          "base_uri": "https://localhost:8080/"
        },
        "id": "cmD3POattX-F",
        "outputId": "dea2f066-c9a0-4805-a6d1-898914d59b15"
      },
      "execution_count": null,
      "outputs": [
        {
          "output_type": "execute_result",
          "data": {
            "text/plain": [
              "0.5"
            ]
          },
          "metadata": {},
          "execution_count": 68
        }
      ]
    },
    {
      "cell_type": "code",
      "source": [
        "# Question 3: \n",
        "# It is known that 70% of individuals support a certain law. \n",
        "# If 10 individuals are randomly selected, what is the probability that between 4 and 6 of them support the law?\n",
        "\n",
        "from scipy.stats import binom\n",
        "\n",
        "#calculate binomial probability\n",
        "binom.cdf(k=6, n=10, p=0.7) - binom.cdf(k=3, n=10, p=0.7)\n",
        "\n"
      ],
      "metadata": {
        "colab": {
          "base_uri": "https://localhost:8080/"
        },
        "id": "H8c73Z5WtyyO",
        "outputId": "3a461f22-0ccf-4cc4-ef14-150b94e75bd8"
      },
      "execution_count": null,
      "outputs": [
        {
          "output_type": "execute_result",
          "data": {
            "text/plain": [
              "0.33979720320000006"
            ]
          },
          "metadata": {},
          "execution_count": 69
        }
      ]
    },
    {
      "cell_type": "code",
      "source": [
        "# Bernoulli distribution\n",
        "# Bernoulli distribution is a discrete probability distribution of a random variable \n",
        "# which has only two outcomes (\"success\" or a \"failure\"). \n",
        "# It is a special case of Binomial distribution for n = 1.\n",
        "\n",
        "# For example, probability (p) of scoring a goal in last 10 minutes is 0.35 (success), probability of not scoring a goal in last 10 minutes (failure) is 1 - p = 0.65.\n",
        "\n",
        "# Plotting Bernoulli distribution with probability for p = 0.65,\n",
        "\n",
        "pyplot.bar(['0', '1'], [0.35, 0.65])"
      ],
      "metadata": {
        "colab": {
          "base_uri": "https://localhost:8080/",
          "height": 282
        },
        "id": "fj2jAbOpuIOX",
        "outputId": "4a502475-4e5b-47a1-e9b2-1dda3452a2f3"
      },
      "execution_count": null,
      "outputs": [
        {
          "output_type": "execute_result",
          "data": {
            "text/plain": [
              "<BarContainer object of 2 artists>"
            ]
          },
          "metadata": {},
          "execution_count": 72
        },
        {
          "output_type": "display_data",
          "data": {
            "text/plain": [
              "<Figure size 432x288 with 1 Axes>"
            ],
            "image/png": "[encoded data removed]"
          },
          "metadata": {
            "needs_background": "light"
          }
        }
      ]
    }
  ]
}